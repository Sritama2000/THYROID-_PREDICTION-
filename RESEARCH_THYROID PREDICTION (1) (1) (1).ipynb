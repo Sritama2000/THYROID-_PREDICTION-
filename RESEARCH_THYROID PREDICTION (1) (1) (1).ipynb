{
 "cells": [
  {
   "cell_type": "code",
   "execution_count": 1,
   "id": "39e7654e",
   "metadata": {},
   "outputs": [],
   "source": [
    "import pandas as pd \n",
    "import numpy as np\n",
    "import matplotlib.pyplot as plt\n",
    "import seaborn as sns"
   ]
  },
  {
   "cell_type": "code",
   "execution_count": 2,
   "id": "f5ee19a5",
   "metadata": {},
   "outputs": [],
   "source": [
    "df=pd.read_csv(r\"C:\\Users\\user\\Desktop\\research_dataset\\thyroid.csv\")"
   ]
  },
  {
   "cell_type": "code",
   "execution_count": 3,
   "id": "746bd8a1",
   "metadata": {},
   "outputs": [
    {
     "data": {
      "text/html": [
       "<div>\n",
       "<style scoped>\n",
       "    .dataframe tbody tr th:only-of-type {\n",
       "        vertical-align: middle;\n",
       "    }\n",
       "\n",
       "    .dataframe tbody tr th {\n",
       "        vertical-align: top;\n",
       "    }\n",
       "\n",
       "    .dataframe thead th {\n",
       "        text-align: right;\n",
       "    }\n",
       "</style>\n",
       "<table border=\"1\" class=\"dataframe\">\n",
       "  <thead>\n",
       "    <tr style=\"text-align: right;\">\n",
       "      <th></th>\n",
       "      <th>29</th>\n",
       "      <th>F</th>\n",
       "      <th>f</th>\n",
       "      <th>f.1</th>\n",
       "      <th>f.2</th>\n",
       "      <th>f.3</th>\n",
       "      <th>f.4</th>\n",
       "      <th>f.5</th>\n",
       "      <th>f.6</th>\n",
       "      <th>t</th>\n",
       "      <th>...</th>\n",
       "      <th>f.14</th>\n",
       "      <th>?.1</th>\n",
       "      <th>f.15</th>\n",
       "      <th>?.2</th>\n",
       "      <th>f.16</th>\n",
       "      <th>?.3</th>\n",
       "      <th>f.17</th>\n",
       "      <th>?.4</th>\n",
       "      <th>other</th>\n",
       "      <th>-[840801013]</th>\n",
       "    </tr>\n",
       "  </thead>\n",
       "  <tbody>\n",
       "    <tr>\n",
       "      <th>0</th>\n",
       "      <td>29</td>\n",
       "      <td>F</td>\n",
       "      <td>f</td>\n",
       "      <td>f</td>\n",
       "      <td>f</td>\n",
       "      <td>f</td>\n",
       "      <td>f</td>\n",
       "      <td>f</td>\n",
       "      <td>f</td>\n",
       "      <td>f</td>\n",
       "      <td>...</td>\n",
       "      <td>t</td>\n",
       "      <td>128</td>\n",
       "      <td>f</td>\n",
       "      <td>?</td>\n",
       "      <td>f</td>\n",
       "      <td>?</td>\n",
       "      <td>f</td>\n",
       "      <td>?</td>\n",
       "      <td>other</td>\n",
       "      <td>-[840801014]</td>\n",
       "    </tr>\n",
       "    <tr>\n",
       "      <th>1</th>\n",
       "      <td>41</td>\n",
       "      <td>F</td>\n",
       "      <td>f</td>\n",
       "      <td>f</td>\n",
       "      <td>f</td>\n",
       "      <td>f</td>\n",
       "      <td>f</td>\n",
       "      <td>f</td>\n",
       "      <td>f</td>\n",
       "      <td>f</td>\n",
       "      <td>...</td>\n",
       "      <td>f</td>\n",
       "      <td>?</td>\n",
       "      <td>f</td>\n",
       "      <td>?</td>\n",
       "      <td>f</td>\n",
       "      <td>?</td>\n",
       "      <td>t</td>\n",
       "      <td>11</td>\n",
       "      <td>other</td>\n",
       "      <td>-[840801042]</td>\n",
       "    </tr>\n",
       "    <tr>\n",
       "      <th>2</th>\n",
       "      <td>36</td>\n",
       "      <td>F</td>\n",
       "      <td>f</td>\n",
       "      <td>f</td>\n",
       "      <td>f</td>\n",
       "      <td>f</td>\n",
       "      <td>f</td>\n",
       "      <td>f</td>\n",
       "      <td>f</td>\n",
       "      <td>f</td>\n",
       "      <td>...</td>\n",
       "      <td>f</td>\n",
       "      <td>?</td>\n",
       "      <td>f</td>\n",
       "      <td>?</td>\n",
       "      <td>f</td>\n",
       "      <td>?</td>\n",
       "      <td>t</td>\n",
       "      <td>26</td>\n",
       "      <td>other</td>\n",
       "      <td>-[840803046]</td>\n",
       "    </tr>\n",
       "    <tr>\n",
       "      <th>3</th>\n",
       "      <td>32</td>\n",
       "      <td>F</td>\n",
       "      <td>f</td>\n",
       "      <td>f</td>\n",
       "      <td>f</td>\n",
       "      <td>f</td>\n",
       "      <td>f</td>\n",
       "      <td>f</td>\n",
       "      <td>f</td>\n",
       "      <td>f</td>\n",
       "      <td>...</td>\n",
       "      <td>f</td>\n",
       "      <td>?</td>\n",
       "      <td>f</td>\n",
       "      <td>?</td>\n",
       "      <td>f</td>\n",
       "      <td>?</td>\n",
       "      <td>t</td>\n",
       "      <td>36</td>\n",
       "      <td>other</td>\n",
       "      <td>S[840803047]</td>\n",
       "    </tr>\n",
       "    <tr>\n",
       "      <th>4</th>\n",
       "      <td>60</td>\n",
       "      <td>F</td>\n",
       "      <td>f</td>\n",
       "      <td>f</td>\n",
       "      <td>f</td>\n",
       "      <td>f</td>\n",
       "      <td>f</td>\n",
       "      <td>f</td>\n",
       "      <td>f</td>\n",
       "      <td>f</td>\n",
       "      <td>...</td>\n",
       "      <td>f</td>\n",
       "      <td>?</td>\n",
       "      <td>f</td>\n",
       "      <td>?</td>\n",
       "      <td>f</td>\n",
       "      <td>?</td>\n",
       "      <td>t</td>\n",
       "      <td>26</td>\n",
       "      <td>other</td>\n",
       "      <td>-[840803048]</td>\n",
       "    </tr>\n",
       "    <tr>\n",
       "      <th>...</th>\n",
       "      <td>...</td>\n",
       "      <td>...</td>\n",
       "      <td>...</td>\n",
       "      <td>...</td>\n",
       "      <td>...</td>\n",
       "      <td>...</td>\n",
       "      <td>...</td>\n",
       "      <td>...</td>\n",
       "      <td>...</td>\n",
       "      <td>...</td>\n",
       "      <td>...</td>\n",
       "      <td>...</td>\n",
       "      <td>...</td>\n",
       "      <td>...</td>\n",
       "      <td>...</td>\n",
       "      <td>...</td>\n",
       "      <td>...</td>\n",
       "      <td>...</td>\n",
       "      <td>...</td>\n",
       "      <td>...</td>\n",
       "      <td>...</td>\n",
       "    </tr>\n",
       "    <tr>\n",
       "      <th>9166</th>\n",
       "      <td>56</td>\n",
       "      <td>M</td>\n",
       "      <td>f</td>\n",
       "      <td>f</td>\n",
       "      <td>f</td>\n",
       "      <td>f</td>\n",
       "      <td>f</td>\n",
       "      <td>f</td>\n",
       "      <td>f</td>\n",
       "      <td>f</td>\n",
       "      <td>...</td>\n",
       "      <td>t</td>\n",
       "      <td>64</td>\n",
       "      <td>t</td>\n",
       "      <td>0.83</td>\n",
       "      <td>t</td>\n",
       "      <td>77</td>\n",
       "      <td>f</td>\n",
       "      <td>?</td>\n",
       "      <td>SVI</td>\n",
       "      <td>-[870119022]</td>\n",
       "    </tr>\n",
       "    <tr>\n",
       "      <th>9167</th>\n",
       "      <td>22</td>\n",
       "      <td>M</td>\n",
       "      <td>f</td>\n",
       "      <td>f</td>\n",
       "      <td>f</td>\n",
       "      <td>f</td>\n",
       "      <td>f</td>\n",
       "      <td>f</td>\n",
       "      <td>f</td>\n",
       "      <td>f</td>\n",
       "      <td>...</td>\n",
       "      <td>t</td>\n",
       "      <td>91</td>\n",
       "      <td>t</td>\n",
       "      <td>0.92</td>\n",
       "      <td>t</td>\n",
       "      <td>99</td>\n",
       "      <td>f</td>\n",
       "      <td>?</td>\n",
       "      <td>SVI</td>\n",
       "      <td>-[870119023]</td>\n",
       "    </tr>\n",
       "    <tr>\n",
       "      <th>9168</th>\n",
       "      <td>69</td>\n",
       "      <td>M</td>\n",
       "      <td>f</td>\n",
       "      <td>f</td>\n",
       "      <td>f</td>\n",
       "      <td>f</td>\n",
       "      <td>f</td>\n",
       "      <td>f</td>\n",
       "      <td>f</td>\n",
       "      <td>f</td>\n",
       "      <td>...</td>\n",
       "      <td>t</td>\n",
       "      <td>113</td>\n",
       "      <td>t</td>\n",
       "      <td>1.27</td>\n",
       "      <td>t</td>\n",
       "      <td>89</td>\n",
       "      <td>f</td>\n",
       "      <td>?</td>\n",
       "      <td>SVI</td>\n",
       "      <td>I[870119025]</td>\n",
       "    </tr>\n",
       "    <tr>\n",
       "      <th>9169</th>\n",
       "      <td>47</td>\n",
       "      <td>F</td>\n",
       "      <td>f</td>\n",
       "      <td>f</td>\n",
       "      <td>f</td>\n",
       "      <td>f</td>\n",
       "      <td>f</td>\n",
       "      <td>f</td>\n",
       "      <td>f</td>\n",
       "      <td>f</td>\n",
       "      <td>...</td>\n",
       "      <td>t</td>\n",
       "      <td>75</td>\n",
       "      <td>t</td>\n",
       "      <td>0.85</td>\n",
       "      <td>t</td>\n",
       "      <td>88</td>\n",
       "      <td>f</td>\n",
       "      <td>?</td>\n",
       "      <td>other</td>\n",
       "      <td>-[870119027]</td>\n",
       "    </tr>\n",
       "    <tr>\n",
       "      <th>9170</th>\n",
       "      <td>31</td>\n",
       "      <td>M</td>\n",
       "      <td>f</td>\n",
       "      <td>f</td>\n",
       "      <td>f</td>\n",
       "      <td>f</td>\n",
       "      <td>f</td>\n",
       "      <td>f</td>\n",
       "      <td>f</td>\n",
       "      <td>t</td>\n",
       "      <td>...</td>\n",
       "      <td>t</td>\n",
       "      <td>66</td>\n",
       "      <td>t</td>\n",
       "      <td>1.02</td>\n",
       "      <td>t</td>\n",
       "      <td>65</td>\n",
       "      <td>f</td>\n",
       "      <td>?</td>\n",
       "      <td>other</td>\n",
       "      <td>-[870119035]</td>\n",
       "    </tr>\n",
       "  </tbody>\n",
       "</table>\n",
       "<p>9171 rows × 30 columns</p>\n",
       "</div>"
      ],
      "text/plain": [
       "      29  F  f f.1 f.2 f.3 f.4 f.5 f.6  t  ... f.14  ?.1 f.15   ?.2 f.16 ?.3  \\\n",
       "0     29  F  f   f   f   f   f   f   f  f  ...    t  128    f     ?    f   ?   \n",
       "1     41  F  f   f   f   f   f   f   f  f  ...    f    ?    f     ?    f   ?   \n",
       "2     36  F  f   f   f   f   f   f   f  f  ...    f    ?    f     ?    f   ?   \n",
       "3     32  F  f   f   f   f   f   f   f  f  ...    f    ?    f     ?    f   ?   \n",
       "4     60  F  f   f   f   f   f   f   f  f  ...    f    ?    f     ?    f   ?   \n",
       "...   .. .. ..  ..  ..  ..  ..  ..  .. ..  ...  ...  ...  ...   ...  ...  ..   \n",
       "9166  56  M  f   f   f   f   f   f   f  f  ...    t   64    t  0.83    t  77   \n",
       "9167  22  M  f   f   f   f   f   f   f  f  ...    t   91    t  0.92    t  99   \n",
       "9168  69  M  f   f   f   f   f   f   f  f  ...    t  113    t  1.27    t  89   \n",
       "9169  47  F  f   f   f   f   f   f   f  f  ...    t   75    t  0.85    t  88   \n",
       "9170  31  M  f   f   f   f   f   f   f  t  ...    t   66    t  1.02    t  65   \n",
       "\n",
       "     f.17 ?.4  other  -[840801013]  \n",
       "0       f   ?  other  -[840801014]  \n",
       "1       t  11  other  -[840801042]  \n",
       "2       t  26  other  -[840803046]  \n",
       "3       t  36  other  S[840803047]  \n",
       "4       t  26  other  -[840803048]  \n",
       "...   ...  ..    ...           ...  \n",
       "9166    f   ?    SVI  -[870119022]  \n",
       "9167    f   ?    SVI  -[870119023]  \n",
       "9168    f   ?    SVI  I[870119025]  \n",
       "9169    f   ?  other  -[870119027]  \n",
       "9170    f   ?  other  -[870119035]  \n",
       "\n",
       "[9171 rows x 30 columns]"
      ]
     },
     "execution_count": 3,
     "metadata": {},
     "output_type": "execute_result"
    }
   ],
   "source": [
    "df"
   ]
  },
  {
   "cell_type": "code",
   "execution_count": 4,
   "id": "bb96e9fc",
   "metadata": {},
   "outputs": [],
   "source": [
    "df.drop(\"other\",axis=1,inplace=True)"
   ]
  },
  {
   "cell_type": "code",
   "execution_count": 5,
   "id": "c1afd3e0",
   "metadata": {},
   "outputs": [],
   "source": [
    "feature_columns= [\"age\",\n",
    "                \"sex\",\n",
    "                \"on_thyroxine\",\n",
    "                \"query_on_thyroxine\",\n",
    "                \"on_antithyroid_medication\",\n",
    "                \"sick\",\n",
    "                \"pregnant\",\n",
    "                \"thyroid_surgery\",\n",
    "                \"I131_treatment\",\n",
    "                \"query_hypothyroid\",\n",
    "                \"query_hyperthyroid\",\n",
    "                \"lithium\",\n",
    "                \"goitre\",\n",
    "                \"tumor\",\n",
    "                \"hypopituitary\",\n",
    "                \"psych\",\n",
    "                \"TSH measured\",\n",
    "                \"TSH\",\n",
    "                \"T3_measured\",\n",
    "                \"T3\",\n",
    "                \"TT4_measured\",\n",
    "                \"TT4\",\n",
    "                \"T4U_measured\",\n",
    "                \"T4U\",\n",
    "                \"FTI_measured\",\n",
    "                \"FTI\",\n",
    "                \"TBG_measured\",\n",
    "                \"TBG\",\n",
    "               \"target\"]\n"
   ]
  },
  {
   "cell_type": "code",
   "execution_count": 6,
   "id": "e3b6765d",
   "metadata": {},
   "outputs": [],
   "source": [
    "df.columns=feature_columns"
   ]
  },
  {
   "cell_type": "code",
   "execution_count": 7,
   "id": "c7264f95",
   "metadata": {},
   "outputs": [
    {
     "data": {
      "text/html": [
       "<div>\n",
       "<style scoped>\n",
       "    .dataframe tbody tr th:only-of-type {\n",
       "        vertical-align: middle;\n",
       "    }\n",
       "\n",
       "    .dataframe tbody tr th {\n",
       "        vertical-align: top;\n",
       "    }\n",
       "\n",
       "    .dataframe thead th {\n",
       "        text-align: right;\n",
       "    }\n",
       "</style>\n",
       "<table border=\"1\" class=\"dataframe\">\n",
       "  <thead>\n",
       "    <tr style=\"text-align: right;\">\n",
       "      <th></th>\n",
       "      <th>age</th>\n",
       "      <th>sex</th>\n",
       "      <th>on_thyroxine</th>\n",
       "      <th>query_on_thyroxine</th>\n",
       "      <th>on_antithyroid_medication</th>\n",
       "      <th>sick</th>\n",
       "      <th>pregnant</th>\n",
       "      <th>thyroid_surgery</th>\n",
       "      <th>I131_treatment</th>\n",
       "      <th>query_hypothyroid</th>\n",
       "      <th>...</th>\n",
       "      <th>T3</th>\n",
       "      <th>TT4_measured</th>\n",
       "      <th>TT4</th>\n",
       "      <th>T4U_measured</th>\n",
       "      <th>T4U</th>\n",
       "      <th>FTI_measured</th>\n",
       "      <th>FTI</th>\n",
       "      <th>TBG_measured</th>\n",
       "      <th>TBG</th>\n",
       "      <th>target</th>\n",
       "    </tr>\n",
       "  </thead>\n",
       "  <tbody>\n",
       "    <tr>\n",
       "      <th>0</th>\n",
       "      <td>29</td>\n",
       "      <td>F</td>\n",
       "      <td>f</td>\n",
       "      <td>f</td>\n",
       "      <td>f</td>\n",
       "      <td>f</td>\n",
       "      <td>f</td>\n",
       "      <td>f</td>\n",
       "      <td>f</td>\n",
       "      <td>f</td>\n",
       "      <td>...</td>\n",
       "      <td>1.9</td>\n",
       "      <td>t</td>\n",
       "      <td>128</td>\n",
       "      <td>f</td>\n",
       "      <td>?</td>\n",
       "      <td>f</td>\n",
       "      <td>?</td>\n",
       "      <td>f</td>\n",
       "      <td>?</td>\n",
       "      <td>-[840801014]</td>\n",
       "    </tr>\n",
       "    <tr>\n",
       "      <th>1</th>\n",
       "      <td>41</td>\n",
       "      <td>F</td>\n",
       "      <td>f</td>\n",
       "      <td>f</td>\n",
       "      <td>f</td>\n",
       "      <td>f</td>\n",
       "      <td>f</td>\n",
       "      <td>f</td>\n",
       "      <td>f</td>\n",
       "      <td>f</td>\n",
       "      <td>...</td>\n",
       "      <td>?</td>\n",
       "      <td>f</td>\n",
       "      <td>?</td>\n",
       "      <td>f</td>\n",
       "      <td>?</td>\n",
       "      <td>f</td>\n",
       "      <td>?</td>\n",
       "      <td>t</td>\n",
       "      <td>11</td>\n",
       "      <td>-[840801042]</td>\n",
       "    </tr>\n",
       "    <tr>\n",
       "      <th>2</th>\n",
       "      <td>36</td>\n",
       "      <td>F</td>\n",
       "      <td>f</td>\n",
       "      <td>f</td>\n",
       "      <td>f</td>\n",
       "      <td>f</td>\n",
       "      <td>f</td>\n",
       "      <td>f</td>\n",
       "      <td>f</td>\n",
       "      <td>f</td>\n",
       "      <td>...</td>\n",
       "      <td>?</td>\n",
       "      <td>f</td>\n",
       "      <td>?</td>\n",
       "      <td>f</td>\n",
       "      <td>?</td>\n",
       "      <td>f</td>\n",
       "      <td>?</td>\n",
       "      <td>t</td>\n",
       "      <td>26</td>\n",
       "      <td>-[840803046]</td>\n",
       "    </tr>\n",
       "    <tr>\n",
       "      <th>3</th>\n",
       "      <td>32</td>\n",
       "      <td>F</td>\n",
       "      <td>f</td>\n",
       "      <td>f</td>\n",
       "      <td>f</td>\n",
       "      <td>f</td>\n",
       "      <td>f</td>\n",
       "      <td>f</td>\n",
       "      <td>f</td>\n",
       "      <td>f</td>\n",
       "      <td>...</td>\n",
       "      <td>?</td>\n",
       "      <td>f</td>\n",
       "      <td>?</td>\n",
       "      <td>f</td>\n",
       "      <td>?</td>\n",
       "      <td>f</td>\n",
       "      <td>?</td>\n",
       "      <td>t</td>\n",
       "      <td>36</td>\n",
       "      <td>S[840803047]</td>\n",
       "    </tr>\n",
       "    <tr>\n",
       "      <th>4</th>\n",
       "      <td>60</td>\n",
       "      <td>F</td>\n",
       "      <td>f</td>\n",
       "      <td>f</td>\n",
       "      <td>f</td>\n",
       "      <td>f</td>\n",
       "      <td>f</td>\n",
       "      <td>f</td>\n",
       "      <td>f</td>\n",
       "      <td>f</td>\n",
       "      <td>...</td>\n",
       "      <td>?</td>\n",
       "      <td>f</td>\n",
       "      <td>?</td>\n",
       "      <td>f</td>\n",
       "      <td>?</td>\n",
       "      <td>f</td>\n",
       "      <td>?</td>\n",
       "      <td>t</td>\n",
       "      <td>26</td>\n",
       "      <td>-[840803048]</td>\n",
       "    </tr>\n",
       "    <tr>\n",
       "      <th>...</th>\n",
       "      <td>...</td>\n",
       "      <td>...</td>\n",
       "      <td>...</td>\n",
       "      <td>...</td>\n",
       "      <td>...</td>\n",
       "      <td>...</td>\n",
       "      <td>...</td>\n",
       "      <td>...</td>\n",
       "      <td>...</td>\n",
       "      <td>...</td>\n",
       "      <td>...</td>\n",
       "      <td>...</td>\n",
       "      <td>...</td>\n",
       "      <td>...</td>\n",
       "      <td>...</td>\n",
       "      <td>...</td>\n",
       "      <td>...</td>\n",
       "      <td>...</td>\n",
       "      <td>...</td>\n",
       "      <td>...</td>\n",
       "      <td>...</td>\n",
       "    </tr>\n",
       "    <tr>\n",
       "      <th>9166</th>\n",
       "      <td>56</td>\n",
       "      <td>M</td>\n",
       "      <td>f</td>\n",
       "      <td>f</td>\n",
       "      <td>f</td>\n",
       "      <td>f</td>\n",
       "      <td>f</td>\n",
       "      <td>f</td>\n",
       "      <td>f</td>\n",
       "      <td>f</td>\n",
       "      <td>...</td>\n",
       "      <td>?</td>\n",
       "      <td>t</td>\n",
       "      <td>64</td>\n",
       "      <td>t</td>\n",
       "      <td>0.83</td>\n",
       "      <td>t</td>\n",
       "      <td>77</td>\n",
       "      <td>f</td>\n",
       "      <td>?</td>\n",
       "      <td>-[870119022]</td>\n",
       "    </tr>\n",
       "    <tr>\n",
       "      <th>9167</th>\n",
       "      <td>22</td>\n",
       "      <td>M</td>\n",
       "      <td>f</td>\n",
       "      <td>f</td>\n",
       "      <td>f</td>\n",
       "      <td>f</td>\n",
       "      <td>f</td>\n",
       "      <td>f</td>\n",
       "      <td>f</td>\n",
       "      <td>f</td>\n",
       "      <td>...</td>\n",
       "      <td>?</td>\n",
       "      <td>t</td>\n",
       "      <td>91</td>\n",
       "      <td>t</td>\n",
       "      <td>0.92</td>\n",
       "      <td>t</td>\n",
       "      <td>99</td>\n",
       "      <td>f</td>\n",
       "      <td>?</td>\n",
       "      <td>-[870119023]</td>\n",
       "    </tr>\n",
       "    <tr>\n",
       "      <th>9168</th>\n",
       "      <td>69</td>\n",
       "      <td>M</td>\n",
       "      <td>f</td>\n",
       "      <td>f</td>\n",
       "      <td>f</td>\n",
       "      <td>f</td>\n",
       "      <td>f</td>\n",
       "      <td>f</td>\n",
       "      <td>f</td>\n",
       "      <td>f</td>\n",
       "      <td>...</td>\n",
       "      <td>?</td>\n",
       "      <td>t</td>\n",
       "      <td>113</td>\n",
       "      <td>t</td>\n",
       "      <td>1.27</td>\n",
       "      <td>t</td>\n",
       "      <td>89</td>\n",
       "      <td>f</td>\n",
       "      <td>?</td>\n",
       "      <td>I[870119025]</td>\n",
       "    </tr>\n",
       "    <tr>\n",
       "      <th>9169</th>\n",
       "      <td>47</td>\n",
       "      <td>F</td>\n",
       "      <td>f</td>\n",
       "      <td>f</td>\n",
       "      <td>f</td>\n",
       "      <td>f</td>\n",
       "      <td>f</td>\n",
       "      <td>f</td>\n",
       "      <td>f</td>\n",
       "      <td>f</td>\n",
       "      <td>...</td>\n",
       "      <td>?</td>\n",
       "      <td>t</td>\n",
       "      <td>75</td>\n",
       "      <td>t</td>\n",
       "      <td>0.85</td>\n",
       "      <td>t</td>\n",
       "      <td>88</td>\n",
       "      <td>f</td>\n",
       "      <td>?</td>\n",
       "      <td>-[870119027]</td>\n",
       "    </tr>\n",
       "    <tr>\n",
       "      <th>9170</th>\n",
       "      <td>31</td>\n",
       "      <td>M</td>\n",
       "      <td>f</td>\n",
       "      <td>f</td>\n",
       "      <td>f</td>\n",
       "      <td>f</td>\n",
       "      <td>f</td>\n",
       "      <td>f</td>\n",
       "      <td>f</td>\n",
       "      <td>t</td>\n",
       "      <td>...</td>\n",
       "      <td>?</td>\n",
       "      <td>t</td>\n",
       "      <td>66</td>\n",
       "      <td>t</td>\n",
       "      <td>1.02</td>\n",
       "      <td>t</td>\n",
       "      <td>65</td>\n",
       "      <td>f</td>\n",
       "      <td>?</td>\n",
       "      <td>-[870119035]</td>\n",
       "    </tr>\n",
       "  </tbody>\n",
       "</table>\n",
       "<p>9171 rows × 29 columns</p>\n",
       "</div>"
      ],
      "text/plain": [
       "      age sex on_thyroxine query_on_thyroxine on_antithyroid_medication sick  \\\n",
       "0      29   F            f                  f                         f    f   \n",
       "1      41   F            f                  f                         f    f   \n",
       "2      36   F            f                  f                         f    f   \n",
       "3      32   F            f                  f                         f    f   \n",
       "4      60   F            f                  f                         f    f   \n",
       "...   ...  ..          ...                ...                       ...  ...   \n",
       "9166   56   M            f                  f                         f    f   \n",
       "9167   22   M            f                  f                         f    f   \n",
       "9168   69   M            f                  f                         f    f   \n",
       "9169   47   F            f                  f                         f    f   \n",
       "9170   31   M            f                  f                         f    f   \n",
       "\n",
       "     pregnant thyroid_surgery I131_treatment query_hypothyroid  ...   T3  \\\n",
       "0           f               f              f                 f  ...  1.9   \n",
       "1           f               f              f                 f  ...    ?   \n",
       "2           f               f              f                 f  ...    ?   \n",
       "3           f               f              f                 f  ...    ?   \n",
       "4           f               f              f                 f  ...    ?   \n",
       "...       ...             ...            ...               ...  ...  ...   \n",
       "9166        f               f              f                 f  ...    ?   \n",
       "9167        f               f              f                 f  ...    ?   \n",
       "9168        f               f              f                 f  ...    ?   \n",
       "9169        f               f              f                 f  ...    ?   \n",
       "9170        f               f              f                 t  ...    ?   \n",
       "\n",
       "     TT4_measured  TT4 T4U_measured   T4U FTI_measured FTI TBG_measured TBG  \\\n",
       "0               t  128            f     ?            f   ?            f   ?   \n",
       "1               f    ?            f     ?            f   ?            t  11   \n",
       "2               f    ?            f     ?            f   ?            t  26   \n",
       "3               f    ?            f     ?            f   ?            t  36   \n",
       "4               f    ?            f     ?            f   ?            t  26   \n",
       "...           ...  ...          ...   ...          ...  ..          ...  ..   \n",
       "9166            t   64            t  0.83            t  77            f   ?   \n",
       "9167            t   91            t  0.92            t  99            f   ?   \n",
       "9168            t  113            t  1.27            t  89            f   ?   \n",
       "9169            t   75            t  0.85            t  88            f   ?   \n",
       "9170            t   66            t  1.02            t  65            f   ?   \n",
       "\n",
       "            target  \n",
       "0     -[840801014]  \n",
       "1     -[840801042]  \n",
       "2     -[840803046]  \n",
       "3     S[840803047]  \n",
       "4     -[840803048]  \n",
       "...            ...  \n",
       "9166  -[870119022]  \n",
       "9167  -[870119023]  \n",
       "9168  I[870119025]  \n",
       "9169  -[870119027]  \n",
       "9170  -[870119035]  \n",
       "\n",
       "[9171 rows x 29 columns]"
      ]
     },
     "execution_count": 7,
     "metadata": {},
     "output_type": "execute_result"
    }
   ],
   "source": [
    "df"
   ]
  },
  {
   "cell_type": "markdown",
   "id": "fea6fac7",
   "metadata": {},
   "source": [
    "#### Splitting Targets"
   ]
  },
  {
   "cell_type": "code",
   "execution_count": 8,
   "id": "e333f60a",
   "metadata": {},
   "outputs": [],
   "source": [
    "\n",
    "df['target'] = df['target'].str.extract('([A-Za-z]+)', expand=False).fillna('Y')\n"
   ]
  },
  {
   "cell_type": "code",
   "execution_count": 9,
   "id": "45855389",
   "metadata": {},
   "outputs": [
    {
     "name": "stdout",
     "output_type": "stream",
     "text": [
      "['Y' 'S' 'F' 'AK' 'R' 'I' 'M' 'N' 'G' 'K' 'A' 'KJ' 'L' 'MK' 'Q' 'J' 'C'\n",
      " 'O' 'LJ' 'H' 'D' 'GK' 'MI' 'P' 'FK' 'B' 'GI' 'GKJ' 'OI' 'E']\n"
     ]
    }
   ],
   "source": [
    "unique_values = df['target'].unique()\n",
    "print(unique_values)\n"
   ]
  },
  {
   "cell_type": "code",
   "execution_count": 10,
   "id": "8c52eab7",
   "metadata": {},
   "outputs": [
    {
     "data": {
      "text/html": [
       "<div>\n",
       "<style scoped>\n",
       "    .dataframe tbody tr th:only-of-type {\n",
       "        vertical-align: middle;\n",
       "    }\n",
       "\n",
       "    .dataframe tbody tr th {\n",
       "        vertical-align: top;\n",
       "    }\n",
       "\n",
       "    .dataframe thead th {\n",
       "        text-align: right;\n",
       "    }\n",
       "</style>\n",
       "<table border=\"1\" class=\"dataframe\">\n",
       "  <thead>\n",
       "    <tr style=\"text-align: right;\">\n",
       "      <th></th>\n",
       "      <th>age</th>\n",
       "      <th>sex</th>\n",
       "      <th>on_thyroxine</th>\n",
       "      <th>query_on_thyroxine</th>\n",
       "      <th>on_antithyroid_medication</th>\n",
       "      <th>sick</th>\n",
       "      <th>pregnant</th>\n",
       "      <th>thyroid_surgery</th>\n",
       "      <th>I131_treatment</th>\n",
       "      <th>query_hypothyroid</th>\n",
       "      <th>...</th>\n",
       "      <th>T3</th>\n",
       "      <th>TT4_measured</th>\n",
       "      <th>TT4</th>\n",
       "      <th>T4U_measured</th>\n",
       "      <th>T4U</th>\n",
       "      <th>FTI_measured</th>\n",
       "      <th>FTI</th>\n",
       "      <th>TBG_measured</th>\n",
       "      <th>TBG</th>\n",
       "      <th>target</th>\n",
       "    </tr>\n",
       "  </thead>\n",
       "  <tbody>\n",
       "    <tr>\n",
       "      <th>0</th>\n",
       "      <td>29</td>\n",
       "      <td>F</td>\n",
       "      <td>f</td>\n",
       "      <td>f</td>\n",
       "      <td>f</td>\n",
       "      <td>f</td>\n",
       "      <td>f</td>\n",
       "      <td>f</td>\n",
       "      <td>f</td>\n",
       "      <td>f</td>\n",
       "      <td>...</td>\n",
       "      <td>1.9</td>\n",
       "      <td>t</td>\n",
       "      <td>128</td>\n",
       "      <td>f</td>\n",
       "      <td>?</td>\n",
       "      <td>f</td>\n",
       "      <td>?</td>\n",
       "      <td>f</td>\n",
       "      <td>?</td>\n",
       "      <td>Y</td>\n",
       "    </tr>\n",
       "    <tr>\n",
       "      <th>1</th>\n",
       "      <td>41</td>\n",
       "      <td>F</td>\n",
       "      <td>f</td>\n",
       "      <td>f</td>\n",
       "      <td>f</td>\n",
       "      <td>f</td>\n",
       "      <td>f</td>\n",
       "      <td>f</td>\n",
       "      <td>f</td>\n",
       "      <td>f</td>\n",
       "      <td>...</td>\n",
       "      <td>?</td>\n",
       "      <td>f</td>\n",
       "      <td>?</td>\n",
       "      <td>f</td>\n",
       "      <td>?</td>\n",
       "      <td>f</td>\n",
       "      <td>?</td>\n",
       "      <td>t</td>\n",
       "      <td>11</td>\n",
       "      <td>Y</td>\n",
       "    </tr>\n",
       "    <tr>\n",
       "      <th>2</th>\n",
       "      <td>36</td>\n",
       "      <td>F</td>\n",
       "      <td>f</td>\n",
       "      <td>f</td>\n",
       "      <td>f</td>\n",
       "      <td>f</td>\n",
       "      <td>f</td>\n",
       "      <td>f</td>\n",
       "      <td>f</td>\n",
       "      <td>f</td>\n",
       "      <td>...</td>\n",
       "      <td>?</td>\n",
       "      <td>f</td>\n",
       "      <td>?</td>\n",
       "      <td>f</td>\n",
       "      <td>?</td>\n",
       "      <td>f</td>\n",
       "      <td>?</td>\n",
       "      <td>t</td>\n",
       "      <td>26</td>\n",
       "      <td>Y</td>\n",
       "    </tr>\n",
       "    <tr>\n",
       "      <th>3</th>\n",
       "      <td>32</td>\n",
       "      <td>F</td>\n",
       "      <td>f</td>\n",
       "      <td>f</td>\n",
       "      <td>f</td>\n",
       "      <td>f</td>\n",
       "      <td>f</td>\n",
       "      <td>f</td>\n",
       "      <td>f</td>\n",
       "      <td>f</td>\n",
       "      <td>...</td>\n",
       "      <td>?</td>\n",
       "      <td>f</td>\n",
       "      <td>?</td>\n",
       "      <td>f</td>\n",
       "      <td>?</td>\n",
       "      <td>f</td>\n",
       "      <td>?</td>\n",
       "      <td>t</td>\n",
       "      <td>36</td>\n",
       "      <td>S</td>\n",
       "    </tr>\n",
       "    <tr>\n",
       "      <th>4</th>\n",
       "      <td>60</td>\n",
       "      <td>F</td>\n",
       "      <td>f</td>\n",
       "      <td>f</td>\n",
       "      <td>f</td>\n",
       "      <td>f</td>\n",
       "      <td>f</td>\n",
       "      <td>f</td>\n",
       "      <td>f</td>\n",
       "      <td>f</td>\n",
       "      <td>...</td>\n",
       "      <td>?</td>\n",
       "      <td>f</td>\n",
       "      <td>?</td>\n",
       "      <td>f</td>\n",
       "      <td>?</td>\n",
       "      <td>f</td>\n",
       "      <td>?</td>\n",
       "      <td>t</td>\n",
       "      <td>26</td>\n",
       "      <td>Y</td>\n",
       "    </tr>\n",
       "    <tr>\n",
       "      <th>...</th>\n",
       "      <td>...</td>\n",
       "      <td>...</td>\n",
       "      <td>...</td>\n",
       "      <td>...</td>\n",
       "      <td>...</td>\n",
       "      <td>...</td>\n",
       "      <td>...</td>\n",
       "      <td>...</td>\n",
       "      <td>...</td>\n",
       "      <td>...</td>\n",
       "      <td>...</td>\n",
       "      <td>...</td>\n",
       "      <td>...</td>\n",
       "      <td>...</td>\n",
       "      <td>...</td>\n",
       "      <td>...</td>\n",
       "      <td>...</td>\n",
       "      <td>...</td>\n",
       "      <td>...</td>\n",
       "      <td>...</td>\n",
       "      <td>...</td>\n",
       "    </tr>\n",
       "    <tr>\n",
       "      <th>9166</th>\n",
       "      <td>56</td>\n",
       "      <td>M</td>\n",
       "      <td>f</td>\n",
       "      <td>f</td>\n",
       "      <td>f</td>\n",
       "      <td>f</td>\n",
       "      <td>f</td>\n",
       "      <td>f</td>\n",
       "      <td>f</td>\n",
       "      <td>f</td>\n",
       "      <td>...</td>\n",
       "      <td>?</td>\n",
       "      <td>t</td>\n",
       "      <td>64</td>\n",
       "      <td>t</td>\n",
       "      <td>0.83</td>\n",
       "      <td>t</td>\n",
       "      <td>77</td>\n",
       "      <td>f</td>\n",
       "      <td>?</td>\n",
       "      <td>Y</td>\n",
       "    </tr>\n",
       "    <tr>\n",
       "      <th>9167</th>\n",
       "      <td>22</td>\n",
       "      <td>M</td>\n",
       "      <td>f</td>\n",
       "      <td>f</td>\n",
       "      <td>f</td>\n",
       "      <td>f</td>\n",
       "      <td>f</td>\n",
       "      <td>f</td>\n",
       "      <td>f</td>\n",
       "      <td>f</td>\n",
       "      <td>...</td>\n",
       "      <td>?</td>\n",
       "      <td>t</td>\n",
       "      <td>91</td>\n",
       "      <td>t</td>\n",
       "      <td>0.92</td>\n",
       "      <td>t</td>\n",
       "      <td>99</td>\n",
       "      <td>f</td>\n",
       "      <td>?</td>\n",
       "      <td>Y</td>\n",
       "    </tr>\n",
       "    <tr>\n",
       "      <th>9168</th>\n",
       "      <td>69</td>\n",
       "      <td>M</td>\n",
       "      <td>f</td>\n",
       "      <td>f</td>\n",
       "      <td>f</td>\n",
       "      <td>f</td>\n",
       "      <td>f</td>\n",
       "      <td>f</td>\n",
       "      <td>f</td>\n",
       "      <td>f</td>\n",
       "      <td>...</td>\n",
       "      <td>?</td>\n",
       "      <td>t</td>\n",
       "      <td>113</td>\n",
       "      <td>t</td>\n",
       "      <td>1.27</td>\n",
       "      <td>t</td>\n",
       "      <td>89</td>\n",
       "      <td>f</td>\n",
       "      <td>?</td>\n",
       "      <td>I</td>\n",
       "    </tr>\n",
       "    <tr>\n",
       "      <th>9169</th>\n",
       "      <td>47</td>\n",
       "      <td>F</td>\n",
       "      <td>f</td>\n",
       "      <td>f</td>\n",
       "      <td>f</td>\n",
       "      <td>f</td>\n",
       "      <td>f</td>\n",
       "      <td>f</td>\n",
       "      <td>f</td>\n",
       "      <td>f</td>\n",
       "      <td>...</td>\n",
       "      <td>?</td>\n",
       "      <td>t</td>\n",
       "      <td>75</td>\n",
       "      <td>t</td>\n",
       "      <td>0.85</td>\n",
       "      <td>t</td>\n",
       "      <td>88</td>\n",
       "      <td>f</td>\n",
       "      <td>?</td>\n",
       "      <td>Y</td>\n",
       "    </tr>\n",
       "    <tr>\n",
       "      <th>9170</th>\n",
       "      <td>31</td>\n",
       "      <td>M</td>\n",
       "      <td>f</td>\n",
       "      <td>f</td>\n",
       "      <td>f</td>\n",
       "      <td>f</td>\n",
       "      <td>f</td>\n",
       "      <td>f</td>\n",
       "      <td>f</td>\n",
       "      <td>t</td>\n",
       "      <td>...</td>\n",
       "      <td>?</td>\n",
       "      <td>t</td>\n",
       "      <td>66</td>\n",
       "      <td>t</td>\n",
       "      <td>1.02</td>\n",
       "      <td>t</td>\n",
       "      <td>65</td>\n",
       "      <td>f</td>\n",
       "      <td>?</td>\n",
       "      <td>Y</td>\n",
       "    </tr>\n",
       "  </tbody>\n",
       "</table>\n",
       "<p>9171 rows × 29 columns</p>\n",
       "</div>"
      ],
      "text/plain": [
       "      age sex on_thyroxine query_on_thyroxine on_antithyroid_medication sick  \\\n",
       "0      29   F            f                  f                         f    f   \n",
       "1      41   F            f                  f                         f    f   \n",
       "2      36   F            f                  f                         f    f   \n",
       "3      32   F            f                  f                         f    f   \n",
       "4      60   F            f                  f                         f    f   \n",
       "...   ...  ..          ...                ...                       ...  ...   \n",
       "9166   56   M            f                  f                         f    f   \n",
       "9167   22   M            f                  f                         f    f   \n",
       "9168   69   M            f                  f                         f    f   \n",
       "9169   47   F            f                  f                         f    f   \n",
       "9170   31   M            f                  f                         f    f   \n",
       "\n",
       "     pregnant thyroid_surgery I131_treatment query_hypothyroid  ...   T3  \\\n",
       "0           f               f              f                 f  ...  1.9   \n",
       "1           f               f              f                 f  ...    ?   \n",
       "2           f               f              f                 f  ...    ?   \n",
       "3           f               f              f                 f  ...    ?   \n",
       "4           f               f              f                 f  ...    ?   \n",
       "...       ...             ...            ...               ...  ...  ...   \n",
       "9166        f               f              f                 f  ...    ?   \n",
       "9167        f               f              f                 f  ...    ?   \n",
       "9168        f               f              f                 f  ...    ?   \n",
       "9169        f               f              f                 f  ...    ?   \n",
       "9170        f               f              f                 t  ...    ?   \n",
       "\n",
       "     TT4_measured  TT4 T4U_measured   T4U FTI_measured FTI TBG_measured TBG  \\\n",
       "0               t  128            f     ?            f   ?            f   ?   \n",
       "1               f    ?            f     ?            f   ?            t  11   \n",
       "2               f    ?            f     ?            f   ?            t  26   \n",
       "3               f    ?            f     ?            f   ?            t  36   \n",
       "4               f    ?            f     ?            f   ?            t  26   \n",
       "...           ...  ...          ...   ...          ...  ..          ...  ..   \n",
       "9166            t   64            t  0.83            t  77            f   ?   \n",
       "9167            t   91            t  0.92            t  99            f   ?   \n",
       "9168            t  113            t  1.27            t  89            f   ?   \n",
       "9169            t   75            t  0.85            t  88            f   ?   \n",
       "9170            t   66            t  1.02            t  65            f   ?   \n",
       "\n",
       "     target  \n",
       "0         Y  \n",
       "1         Y  \n",
       "2         Y  \n",
       "3         S  \n",
       "4         Y  \n",
       "...     ...  \n",
       "9166      Y  \n",
       "9167      Y  \n",
       "9168      I  \n",
       "9169      Y  \n",
       "9170      Y  \n",
       "\n",
       "[9171 rows x 29 columns]"
      ]
     },
     "execution_count": 10,
     "metadata": {},
     "output_type": "execute_result"
    }
   ],
   "source": [
    "df"
   ]
  },
  {
   "cell_type": "markdown",
   "id": "0fcffe36",
   "metadata": {},
   "source": [
    "#### this case the null values are marked as in '?'"
   ]
  },
  {
   "cell_type": "code",
   "execution_count": 11,
   "id": "7b53da62",
   "metadata": {},
   "outputs": [],
   "source": [
    "df = df.applymap(lambda x: np.nan if x == '?' else x)"
   ]
  },
  {
   "cell_type": "code",
   "execution_count": 12,
   "id": "24177bf1",
   "metadata": {},
   "outputs": [
    {
     "data": {
      "text/plain": [
       "age                             0\n",
       "sex                           307\n",
       "on_thyroxine                    0\n",
       "query_on_thyroxine              0\n",
       "on_antithyroid_medication       0\n",
       "sick                            0\n",
       "pregnant                        0\n",
       "thyroid_surgery                 0\n",
       "I131_treatment                  0\n",
       "query_hypothyroid               0\n",
       "query_hyperthyroid              0\n",
       "lithium                         0\n",
       "goitre                          0\n",
       "tumor                           0\n",
       "hypopituitary                   0\n",
       "psych                           0\n",
       "TSH measured                    0\n",
       "TSH                           842\n",
       "T3_measured                     0\n",
       "T3                           2603\n",
       "TT4_measured                    0\n",
       "TT4                           441\n",
       "T4U_measured                    0\n",
       "T4U                           808\n",
       "FTI_measured                    0\n",
       "FTI                           801\n",
       "TBG_measured                    0\n",
       "TBG                          8822\n",
       "target                          0\n",
       "dtype: int64"
      ]
     },
     "execution_count": 12,
     "metadata": {},
     "output_type": "execute_result"
    }
   ],
   "source": [
    "df.isnull().sum()"
   ]
  },
  {
   "cell_type": "markdown",
   "id": "e5987e46",
   "metadata": {},
   "source": [
    "#### feautre rows which is not useful"
   ]
  },
  {
   "cell_type": "code",
   "execution_count": 13,
   "id": "f9b85eb9",
   "metadata": {},
   "outputs": [],
   "source": [
    "columns_to_drop = ['TBG_measured', 'TBG', 'T3_measured', 'TSH measured', 'TT4_measured', 'T4U_measured', 'FTI_measured']\n",
    "df.drop(columns_to_drop, axis=1, inplace=True)\n"
   ]
  },
  {
   "cell_type": "code",
   "execution_count": 14,
   "id": "fd917d87",
   "metadata": {},
   "outputs": [
    {
     "data": {
      "text/html": [
       "<div>\n",
       "<style scoped>\n",
       "    .dataframe tbody tr th:only-of-type {\n",
       "        vertical-align: middle;\n",
       "    }\n",
       "\n",
       "    .dataframe tbody tr th {\n",
       "        vertical-align: top;\n",
       "    }\n",
       "\n",
       "    .dataframe thead th {\n",
       "        text-align: right;\n",
       "    }\n",
       "</style>\n",
       "<table border=\"1\" class=\"dataframe\">\n",
       "  <thead>\n",
       "    <tr style=\"text-align: right;\">\n",
       "      <th></th>\n",
       "      <th>age</th>\n",
       "      <th>sex</th>\n",
       "      <th>on_thyroxine</th>\n",
       "      <th>query_on_thyroxine</th>\n",
       "      <th>on_antithyroid_medication</th>\n",
       "      <th>sick</th>\n",
       "      <th>pregnant</th>\n",
       "      <th>thyroid_surgery</th>\n",
       "      <th>I131_treatment</th>\n",
       "      <th>query_hypothyroid</th>\n",
       "      <th>...</th>\n",
       "      <th>goitre</th>\n",
       "      <th>tumor</th>\n",
       "      <th>hypopituitary</th>\n",
       "      <th>psych</th>\n",
       "      <th>TSH</th>\n",
       "      <th>T3</th>\n",
       "      <th>TT4</th>\n",
       "      <th>T4U</th>\n",
       "      <th>FTI</th>\n",
       "      <th>target</th>\n",
       "    </tr>\n",
       "  </thead>\n",
       "  <tbody>\n",
       "    <tr>\n",
       "      <th>0</th>\n",
       "      <td>29</td>\n",
       "      <td>F</td>\n",
       "      <td>f</td>\n",
       "      <td>f</td>\n",
       "      <td>f</td>\n",
       "      <td>f</td>\n",
       "      <td>f</td>\n",
       "      <td>f</td>\n",
       "      <td>f</td>\n",
       "      <td>f</td>\n",
       "      <td>...</td>\n",
       "      <td>f</td>\n",
       "      <td>f</td>\n",
       "      <td>f</td>\n",
       "      <td>f</td>\n",
       "      <td>1.6</td>\n",
       "      <td>1.9</td>\n",
       "      <td>128</td>\n",
       "      <td>NaN</td>\n",
       "      <td>NaN</td>\n",
       "      <td>Y</td>\n",
       "    </tr>\n",
       "    <tr>\n",
       "      <th>1</th>\n",
       "      <td>41</td>\n",
       "      <td>F</td>\n",
       "      <td>f</td>\n",
       "      <td>f</td>\n",
       "      <td>f</td>\n",
       "      <td>f</td>\n",
       "      <td>f</td>\n",
       "      <td>f</td>\n",
       "      <td>f</td>\n",
       "      <td>f</td>\n",
       "      <td>...</td>\n",
       "      <td>f</td>\n",
       "      <td>f</td>\n",
       "      <td>f</td>\n",
       "      <td>f</td>\n",
       "      <td>NaN</td>\n",
       "      <td>NaN</td>\n",
       "      <td>NaN</td>\n",
       "      <td>NaN</td>\n",
       "      <td>NaN</td>\n",
       "      <td>Y</td>\n",
       "    </tr>\n",
       "    <tr>\n",
       "      <th>2</th>\n",
       "      <td>36</td>\n",
       "      <td>F</td>\n",
       "      <td>f</td>\n",
       "      <td>f</td>\n",
       "      <td>f</td>\n",
       "      <td>f</td>\n",
       "      <td>f</td>\n",
       "      <td>f</td>\n",
       "      <td>f</td>\n",
       "      <td>f</td>\n",
       "      <td>...</td>\n",
       "      <td>f</td>\n",
       "      <td>f</td>\n",
       "      <td>f</td>\n",
       "      <td>f</td>\n",
       "      <td>NaN</td>\n",
       "      <td>NaN</td>\n",
       "      <td>NaN</td>\n",
       "      <td>NaN</td>\n",
       "      <td>NaN</td>\n",
       "      <td>Y</td>\n",
       "    </tr>\n",
       "    <tr>\n",
       "      <th>3</th>\n",
       "      <td>32</td>\n",
       "      <td>F</td>\n",
       "      <td>f</td>\n",
       "      <td>f</td>\n",
       "      <td>f</td>\n",
       "      <td>f</td>\n",
       "      <td>f</td>\n",
       "      <td>f</td>\n",
       "      <td>f</td>\n",
       "      <td>f</td>\n",
       "      <td>...</td>\n",
       "      <td>f</td>\n",
       "      <td>f</td>\n",
       "      <td>f</td>\n",
       "      <td>f</td>\n",
       "      <td>NaN</td>\n",
       "      <td>NaN</td>\n",
       "      <td>NaN</td>\n",
       "      <td>NaN</td>\n",
       "      <td>NaN</td>\n",
       "      <td>S</td>\n",
       "    </tr>\n",
       "    <tr>\n",
       "      <th>4</th>\n",
       "      <td>60</td>\n",
       "      <td>F</td>\n",
       "      <td>f</td>\n",
       "      <td>f</td>\n",
       "      <td>f</td>\n",
       "      <td>f</td>\n",
       "      <td>f</td>\n",
       "      <td>f</td>\n",
       "      <td>f</td>\n",
       "      <td>f</td>\n",
       "      <td>...</td>\n",
       "      <td>f</td>\n",
       "      <td>f</td>\n",
       "      <td>f</td>\n",
       "      <td>f</td>\n",
       "      <td>NaN</td>\n",
       "      <td>NaN</td>\n",
       "      <td>NaN</td>\n",
       "      <td>NaN</td>\n",
       "      <td>NaN</td>\n",
       "      <td>Y</td>\n",
       "    </tr>\n",
       "    <tr>\n",
       "      <th>...</th>\n",
       "      <td>...</td>\n",
       "      <td>...</td>\n",
       "      <td>...</td>\n",
       "      <td>...</td>\n",
       "      <td>...</td>\n",
       "      <td>...</td>\n",
       "      <td>...</td>\n",
       "      <td>...</td>\n",
       "      <td>...</td>\n",
       "      <td>...</td>\n",
       "      <td>...</td>\n",
       "      <td>...</td>\n",
       "      <td>...</td>\n",
       "      <td>...</td>\n",
       "      <td>...</td>\n",
       "      <td>...</td>\n",
       "      <td>...</td>\n",
       "      <td>...</td>\n",
       "      <td>...</td>\n",
       "      <td>...</td>\n",
       "      <td>...</td>\n",
       "    </tr>\n",
       "    <tr>\n",
       "      <th>9166</th>\n",
       "      <td>56</td>\n",
       "      <td>M</td>\n",
       "      <td>f</td>\n",
       "      <td>f</td>\n",
       "      <td>f</td>\n",
       "      <td>f</td>\n",
       "      <td>f</td>\n",
       "      <td>f</td>\n",
       "      <td>f</td>\n",
       "      <td>f</td>\n",
       "      <td>...</td>\n",
       "      <td>f</td>\n",
       "      <td>f</td>\n",
       "      <td>f</td>\n",
       "      <td>f</td>\n",
       "      <td>NaN</td>\n",
       "      <td>NaN</td>\n",
       "      <td>64</td>\n",
       "      <td>0.83</td>\n",
       "      <td>77</td>\n",
       "      <td>Y</td>\n",
       "    </tr>\n",
       "    <tr>\n",
       "      <th>9167</th>\n",
       "      <td>22</td>\n",
       "      <td>M</td>\n",
       "      <td>f</td>\n",
       "      <td>f</td>\n",
       "      <td>f</td>\n",
       "      <td>f</td>\n",
       "      <td>f</td>\n",
       "      <td>f</td>\n",
       "      <td>f</td>\n",
       "      <td>f</td>\n",
       "      <td>...</td>\n",
       "      <td>f</td>\n",
       "      <td>f</td>\n",
       "      <td>f</td>\n",
       "      <td>f</td>\n",
       "      <td>NaN</td>\n",
       "      <td>NaN</td>\n",
       "      <td>91</td>\n",
       "      <td>0.92</td>\n",
       "      <td>99</td>\n",
       "      <td>Y</td>\n",
       "    </tr>\n",
       "    <tr>\n",
       "      <th>9168</th>\n",
       "      <td>69</td>\n",
       "      <td>M</td>\n",
       "      <td>f</td>\n",
       "      <td>f</td>\n",
       "      <td>f</td>\n",
       "      <td>f</td>\n",
       "      <td>f</td>\n",
       "      <td>f</td>\n",
       "      <td>f</td>\n",
       "      <td>f</td>\n",
       "      <td>...</td>\n",
       "      <td>f</td>\n",
       "      <td>f</td>\n",
       "      <td>f</td>\n",
       "      <td>f</td>\n",
       "      <td>NaN</td>\n",
       "      <td>NaN</td>\n",
       "      <td>113</td>\n",
       "      <td>1.27</td>\n",
       "      <td>89</td>\n",
       "      <td>I</td>\n",
       "    </tr>\n",
       "    <tr>\n",
       "      <th>9169</th>\n",
       "      <td>47</td>\n",
       "      <td>F</td>\n",
       "      <td>f</td>\n",
       "      <td>f</td>\n",
       "      <td>f</td>\n",
       "      <td>f</td>\n",
       "      <td>f</td>\n",
       "      <td>f</td>\n",
       "      <td>f</td>\n",
       "      <td>f</td>\n",
       "      <td>...</td>\n",
       "      <td>f</td>\n",
       "      <td>f</td>\n",
       "      <td>f</td>\n",
       "      <td>f</td>\n",
       "      <td>NaN</td>\n",
       "      <td>NaN</td>\n",
       "      <td>75</td>\n",
       "      <td>0.85</td>\n",
       "      <td>88</td>\n",
       "      <td>Y</td>\n",
       "    </tr>\n",
       "    <tr>\n",
       "      <th>9170</th>\n",
       "      <td>31</td>\n",
       "      <td>M</td>\n",
       "      <td>f</td>\n",
       "      <td>f</td>\n",
       "      <td>f</td>\n",
       "      <td>f</td>\n",
       "      <td>f</td>\n",
       "      <td>f</td>\n",
       "      <td>f</td>\n",
       "      <td>t</td>\n",
       "      <td>...</td>\n",
       "      <td>f</td>\n",
       "      <td>f</td>\n",
       "      <td>f</td>\n",
       "      <td>f</td>\n",
       "      <td>NaN</td>\n",
       "      <td>NaN</td>\n",
       "      <td>66</td>\n",
       "      <td>1.02</td>\n",
       "      <td>65</td>\n",
       "      <td>Y</td>\n",
       "    </tr>\n",
       "  </tbody>\n",
       "</table>\n",
       "<p>9171 rows × 22 columns</p>\n",
       "</div>"
      ],
      "text/plain": [
       "      age sex on_thyroxine query_on_thyroxine on_antithyroid_medication sick  \\\n",
       "0      29   F            f                  f                         f    f   \n",
       "1      41   F            f                  f                         f    f   \n",
       "2      36   F            f                  f                         f    f   \n",
       "3      32   F            f                  f                         f    f   \n",
       "4      60   F            f                  f                         f    f   \n",
       "...   ...  ..          ...                ...                       ...  ...   \n",
       "9166   56   M            f                  f                         f    f   \n",
       "9167   22   M            f                  f                         f    f   \n",
       "9168   69   M            f                  f                         f    f   \n",
       "9169   47   F            f                  f                         f    f   \n",
       "9170   31   M            f                  f                         f    f   \n",
       "\n",
       "     pregnant thyroid_surgery I131_treatment query_hypothyroid  ... goitre  \\\n",
       "0           f               f              f                 f  ...      f   \n",
       "1           f               f              f                 f  ...      f   \n",
       "2           f               f              f                 f  ...      f   \n",
       "3           f               f              f                 f  ...      f   \n",
       "4           f               f              f                 f  ...      f   \n",
       "...       ...             ...            ...               ...  ...    ...   \n",
       "9166        f               f              f                 f  ...      f   \n",
       "9167        f               f              f                 f  ...      f   \n",
       "9168        f               f              f                 f  ...      f   \n",
       "9169        f               f              f                 f  ...      f   \n",
       "9170        f               f              f                 t  ...      f   \n",
       "\n",
       "     tumor hypopituitary psych  TSH   T3  TT4   T4U  FTI target  \n",
       "0        f             f     f  1.6  1.9  128   NaN  NaN      Y  \n",
       "1        f             f     f  NaN  NaN  NaN   NaN  NaN      Y  \n",
       "2        f             f     f  NaN  NaN  NaN   NaN  NaN      Y  \n",
       "3        f             f     f  NaN  NaN  NaN   NaN  NaN      S  \n",
       "4        f             f     f  NaN  NaN  NaN   NaN  NaN      Y  \n",
       "...    ...           ...   ...  ...  ...  ...   ...  ...    ...  \n",
       "9166     f             f     f  NaN  NaN   64  0.83   77      Y  \n",
       "9167     f             f     f  NaN  NaN   91  0.92   99      Y  \n",
       "9168     f             f     f  NaN  NaN  113  1.27   89      I  \n",
       "9169     f             f     f  NaN  NaN   75  0.85   88      Y  \n",
       "9170     f             f     f  NaN  NaN   66  1.02   65      Y  \n",
       "\n",
       "[9171 rows x 22 columns]"
      ]
     },
     "execution_count": 14,
     "metadata": {},
     "output_type": "execute_result"
    }
   ],
   "source": [
    "df"
   ]
  },
  {
   "cell_type": "code",
   "execution_count": 15,
   "id": "d1a1435d",
   "metadata": {},
   "outputs": [
    {
     "data": {
      "text/plain": [
       "age                             0\n",
       "sex                           307\n",
       "on_thyroxine                    0\n",
       "query_on_thyroxine              0\n",
       "on_antithyroid_medication       0\n",
       "sick                            0\n",
       "pregnant                        0\n",
       "thyroid_surgery                 0\n",
       "I131_treatment                  0\n",
       "query_hypothyroid               0\n",
       "query_hyperthyroid              0\n",
       "lithium                         0\n",
       "goitre                          0\n",
       "tumor                           0\n",
       "hypopituitary                   0\n",
       "psych                           0\n",
       "TSH                           842\n",
       "T3                           2603\n",
       "TT4                           441\n",
       "T4U                           808\n",
       "FTI                           801\n",
       "target                          0\n",
       "dtype: int64"
      ]
     },
     "execution_count": 15,
     "metadata": {},
     "output_type": "execute_result"
    }
   ],
   "source": [
    "df.isnull().sum()"
   ]
  },
  {
   "cell_type": "code",
   "execution_count": 16,
   "id": "34409ff0",
   "metadata": {},
   "outputs": [],
   "source": [
    "df['sex'] = df['sex'].map({'F': 2, 'M': 1})\n"
   ]
  },
  {
   "cell_type": "code",
   "execution_count": 17,
   "id": "5a23ae06",
   "metadata": {},
   "outputs": [],
   "source": [
    "df['sex'].fillna(round(df['sex'].mean()), inplace=True)\n"
   ]
  },
  {
   "cell_type": "code",
   "execution_count": 18,
   "id": "6e15e057",
   "metadata": {},
   "outputs": [
    {
     "data": {
      "text/plain": [
       "array([2., 1.])"
      ]
     },
     "execution_count": 18,
     "metadata": {},
     "output_type": "execute_result"
    }
   ],
   "source": [
    "df.sex.unique()"
   ]
  },
  {
   "cell_type": "code",
   "execution_count": 19,
   "id": "79e57cbc",
   "metadata": {},
   "outputs": [
    {
     "data": {
      "text/plain": [
       "age                             0\n",
       "sex                             0\n",
       "on_thyroxine                    0\n",
       "query_on_thyroxine              0\n",
       "on_antithyroid_medication       0\n",
       "sick                            0\n",
       "pregnant                        0\n",
       "thyroid_surgery                 0\n",
       "I131_treatment                  0\n",
       "query_hypothyroid               0\n",
       "query_hyperthyroid              0\n",
       "lithium                         0\n",
       "goitre                          0\n",
       "tumor                           0\n",
       "hypopituitary                   0\n",
       "psych                           0\n",
       "TSH                           842\n",
       "T3                           2603\n",
       "TT4                           441\n",
       "T4U                           808\n",
       "FTI                           801\n",
       "target                          0\n",
       "dtype: int64"
      ]
     },
     "execution_count": 19,
     "metadata": {},
     "output_type": "execute_result"
    }
   ],
   "source": [
    "df.isnull().sum()"
   ]
  },
  {
   "cell_type": "markdown",
   "id": "90802d9e",
   "metadata": {},
   "source": [
    "#### impute the null values with knn imputer"
   ]
  },
  {
   "cell_type": "code",
   "execution_count": 20,
   "id": "fd9a6b8c",
   "metadata": {},
   "outputs": [],
   "source": [
    "from sklearn.impute import KNNImputer\n",
    "knnimp = KNNImputer(n_neighbors=3)"
   ]
  },
  {
   "cell_type": "code",
   "execution_count": 21,
   "id": "f0b8697c",
   "metadata": {},
   "outputs": [],
   "source": [
    "\n",
    "\n",
    "cols = ['TSH', 'T3', 'TT4', 'T4U', 'FTI']\n",
    "\n",
    "\n",
    "for i in cols:\n",
    "    df[i] = knnimp.fit_transform(df[[i]])[:, 0]\n"
   ]
  },
  {
   "cell_type": "code",
   "execution_count": 22,
   "id": "38fd4bd7",
   "metadata": {},
   "outputs": [
    {
     "data": {
      "text/plain": [
       "age                          0\n",
       "sex                          0\n",
       "on_thyroxine                 0\n",
       "query_on_thyroxine           0\n",
       "on_antithyroid_medication    0\n",
       "sick                         0\n",
       "pregnant                     0\n",
       "thyroid_surgery              0\n",
       "I131_treatment               0\n",
       "query_hypothyroid            0\n",
       "query_hyperthyroid           0\n",
       "lithium                      0\n",
       "goitre                       0\n",
       "tumor                        0\n",
       "hypopituitary                0\n",
       "psych                        0\n",
       "TSH                          0\n",
       "T3                           0\n",
       "TT4                          0\n",
       "T4U                          0\n",
       "FTI                          0\n",
       "target                       0\n",
       "dtype: int64"
      ]
     },
     "execution_count": 22,
     "metadata": {},
     "output_type": "execute_result"
    }
   ],
   "source": [
    "df.isnull().sum() "
   ]
  },
  {
   "cell_type": "code",
   "execution_count": 23,
   "id": "bd08778b",
   "metadata": {},
   "outputs": [
    {
     "name": "stdout",
     "output_type": "stream",
     "text": [
      "<class 'pandas.core.frame.DataFrame'>\n",
      "RangeIndex: 9171 entries, 0 to 9170\n",
      "Data columns (total 22 columns):\n",
      " #   Column                     Non-Null Count  Dtype  \n",
      "---  ------                     --------------  -----  \n",
      " 0   age                        9171 non-null   int64  \n",
      " 1   sex                        9171 non-null   float64\n",
      " 2   on_thyroxine               9171 non-null   object \n",
      " 3   query_on_thyroxine         9171 non-null   object \n",
      " 4   on_antithyroid_medication  9171 non-null   object \n",
      " 5   sick                       9171 non-null   object \n",
      " 6   pregnant                   9171 non-null   object \n",
      " 7   thyroid_surgery            9171 non-null   object \n",
      " 8   I131_treatment             9171 non-null   object \n",
      " 9   query_hypothyroid          9171 non-null   object \n",
      " 10  query_hyperthyroid         9171 non-null   object \n",
      " 11  lithium                    9171 non-null   object \n",
      " 12  goitre                     9171 non-null   object \n",
      " 13  tumor                      9171 non-null   object \n",
      " 14  hypopituitary              9171 non-null   object \n",
      " 15  psych                      9171 non-null   object \n",
      " 16  TSH                        9171 non-null   float64\n",
      " 17  T3                         9171 non-null   float64\n",
      " 18  TT4                        9171 non-null   float64\n",
      " 19  T4U                        9171 non-null   float64\n",
      " 20  FTI                        9171 non-null   float64\n",
      " 21  target                     9171 non-null   object \n",
      "dtypes: float64(6), int64(1), object(15)\n",
      "memory usage: 1.5+ MB\n"
     ]
    }
   ],
   "source": [
    "df.info()"
   ]
  },
  {
   "cell_type": "markdown",
   "id": "e2ea6a02",
   "metadata": {},
   "source": [
    "#### Data Analysis"
   ]
  },
  {
   "cell_type": "code",
   "execution_count": 24,
   "id": "0a9550b3",
   "metadata": {},
   "outputs": [
    {
     "name": "stderr",
     "output_type": "stream",
     "text": [
      "C:\\Users\\user\\AppData\\Local\\Temp\\ipykernel_8332\\3115213143.py:2: FutureWarning: The default value of numeric_only in DataFrame.corr is deprecated. In a future version, it will default to False. Select only valid columns or specify the value of numeric_only to silence this warning.\n",
      "  correlation_matrix = df.corr()\n"
     ]
    },
    {
     "data": {
      "image/png": "[encoded data removed]",
      "text/plain": [
       "<Figure size 1200x1000 with 2 Axes>"
      ]
     },
     "metadata": {},
     "output_type": "display_data"
    }
   ],
   "source": [
    "plt.figure(figsize=(12, 10))\n",
    "correlation_matrix = df.corr()\n",
    "sns.heatmap(correlation_matrix, annot=True, cmap='coolwarm', fmt=\".2f\", linewidths=.5)\n",
    "plt.title(\"Correlation Heatmap\", fontsize=16)\n",
    "plt.show()"
   ]
  },
  {
   "cell_type": "code",
   "execution_count": 25,
   "id": "d40bc884",
   "metadata": {},
   "outputs": [
    {
     "name": "stderr",
     "output_type": "stream",
     "text": [
      "C:\\Users\\user\\AppData\\Local\\Temp\\ipykernel_8332\\1134722465.py:1: FutureWarning: The default value of numeric_only in DataFrame.corr is deprecated. In a future version, it will default to False. Select only valid columns or specify the value of numeric_only to silence this warning.\n",
      "  df.corr()\n"
     ]
    },
    {
     "data": {
      "text/html": [
       "<div>\n",
       "<style scoped>\n",
       "    .dataframe tbody tr th:only-of-type {\n",
       "        vertical-align: middle;\n",
       "    }\n",
       "\n",
       "    .dataframe tbody tr th {\n",
       "        vertical-align: top;\n",
       "    }\n",
       "\n",
       "    .dataframe thead th {\n",
       "        text-align: right;\n",
       "    }\n",
       "</style>\n",
       "<table border=\"1\" class=\"dataframe\">\n",
       "  <thead>\n",
       "    <tr style=\"text-align: right;\">\n",
       "      <th></th>\n",
       "      <th>age</th>\n",
       "      <th>sex</th>\n",
       "      <th>TSH</th>\n",
       "      <th>T3</th>\n",
       "      <th>TT4</th>\n",
       "      <th>T4U</th>\n",
       "      <th>FTI</th>\n",
       "    </tr>\n",
       "  </thead>\n",
       "  <tbody>\n",
       "    <tr>\n",
       "      <th>age</th>\n",
       "      <td>1.000000</td>\n",
       "      <td>-0.014175</td>\n",
       "      <td>-0.003979</td>\n",
       "      <td>0.003693</td>\n",
       "      <td>0.004122</td>\n",
       "      <td>-0.002045</td>\n",
       "      <td>0.004108</td>\n",
       "    </tr>\n",
       "    <tr>\n",
       "      <th>sex</th>\n",
       "      <td>-0.014175</td>\n",
       "      <td>1.000000</td>\n",
       "      <td>0.036723</td>\n",
       "      <td>0.048890</td>\n",
       "      <td>0.150479</td>\n",
       "      <td>0.214723</td>\n",
       "      <td>0.030149</td>\n",
       "    </tr>\n",
       "    <tr>\n",
       "      <th>TSH</th>\n",
       "      <td>-0.003979</td>\n",
       "      <td>0.036723</td>\n",
       "      <td>1.000000</td>\n",
       "      <td>-0.136613</td>\n",
       "      <td>-0.264756</td>\n",
       "      <td>0.072962</td>\n",
       "      <td>-0.257901</td>\n",
       "    </tr>\n",
       "    <tr>\n",
       "      <th>T3</th>\n",
       "      <td>0.003693</td>\n",
       "      <td>0.048890</td>\n",
       "      <td>-0.136613</td>\n",
       "      <td>1.000000</td>\n",
       "      <td>0.471792</td>\n",
       "      <td>0.281336</td>\n",
       "      <td>0.312401</td>\n",
       "    </tr>\n",
       "    <tr>\n",
       "      <th>TT4</th>\n",
       "      <td>0.004122</td>\n",
       "      <td>0.150479</td>\n",
       "      <td>-0.264756</td>\n",
       "      <td>0.471792</td>\n",
       "      <td>1.000000</td>\n",
       "      <td>0.362280</td>\n",
       "      <td>0.738279</td>\n",
       "    </tr>\n",
       "    <tr>\n",
       "      <th>T4U</th>\n",
       "      <td>-0.002045</td>\n",
       "      <td>0.214723</td>\n",
       "      <td>0.072962</td>\n",
       "      <td>0.281336</td>\n",
       "      <td>0.362280</td>\n",
       "      <td>1.000000</td>\n",
       "      <td>-0.238927</td>\n",
       "    </tr>\n",
       "    <tr>\n",
       "      <th>FTI</th>\n",
       "      <td>0.004108</td>\n",
       "      <td>0.030149</td>\n",
       "      <td>-0.257901</td>\n",
       "      <td>0.312401</td>\n",
       "      <td>0.738279</td>\n",
       "      <td>-0.238927</td>\n",
       "      <td>1.000000</td>\n",
       "    </tr>\n",
       "  </tbody>\n",
       "</table>\n",
       "</div>"
      ],
      "text/plain": [
       "          age       sex       TSH        T3       TT4       T4U       FTI\n",
       "age  1.000000 -0.014175 -0.003979  0.003693  0.004122 -0.002045  0.004108\n",
       "sex -0.014175  1.000000  0.036723  0.048890  0.150479  0.214723  0.030149\n",
       "TSH -0.003979  0.036723  1.000000 -0.136613 -0.264756  0.072962 -0.257901\n",
       "T3   0.003693  0.048890 -0.136613  1.000000  0.471792  0.281336  0.312401\n",
       "TT4  0.004122  0.150479 -0.264756  0.471792  1.000000  0.362280  0.738279\n",
       "T4U -0.002045  0.214723  0.072962  0.281336  0.362280  1.000000 -0.238927\n",
       "FTI  0.004108  0.030149 -0.257901  0.312401  0.738279 -0.238927  1.000000"
      ]
     },
     "execution_count": 25,
     "metadata": {},
     "output_type": "execute_result"
    }
   ],
   "source": [
    "df.corr()"
   ]
  },
  {
   "cell_type": "markdown",
   "id": "9a5a9d07",
   "metadata": {},
   "source": [
    "#### for categorial object , we have to do label encoder"
   ]
  },
  {
   "cell_type": "code",
   "execution_count": 26,
   "id": "60a63cc0",
   "metadata": {},
   "outputs": [],
   "source": [
    "from sklearn.preprocessing import LabelEncoder\n",
    "le = LabelEncoder()"
   ]
  },
  {
   "cell_type": "code",
   "execution_count": 27,
   "id": "c433e4b5",
   "metadata": {},
   "outputs": [],
   "source": [
    "cols = df.select_dtypes(include=['object']).columns\n"
   ]
  },
  {
   "cell_type": "code",
   "execution_count": 28,
   "id": "8e280acf",
   "metadata": {},
   "outputs": [],
   "source": [
    "\n",
    "\n",
    "le = LabelEncoder()\n",
    "\n",
    "for col in df.select_dtypes(include=['object']):\n",
    "    try:\n",
    "        df[col] = le.fit_transform(df[col])\n",
    "    except Exception as e:\n",
    "        print(f\"An error occurred for column {col}: {e}\")\n",
    "        continue\n"
   ]
  },
  {
   "cell_type": "code",
   "execution_count": 29,
   "id": "cf5a349c",
   "metadata": {},
   "outputs": [
    {
     "name": "stdout",
     "output_type": "stream",
     "text": [
      "Columns 'FTI' and 'TT4' have correlation coefficient: 0.7382787596909272\n"
     ]
    }
   ],
   "source": [
    "for a in range(len(df.corr().columns)):\n",
    "    for b in range(a):\n",
    "        correlation_coefficient = df.corr().iloc[a, b]\n",
    "        if correlation_coefficient >= 0.7:\n",
    "            print(f\"Columns '{df.corr().columns[a]}' and '{df.corr().columns[b]}' have correlation coefficient: {correlation_coefficient}\")\n"
   ]
  },
  {
   "cell_type": "code",
   "execution_count": 30,
   "id": "e77116bd",
   "metadata": {},
   "outputs": [],
   "source": [
    "df.drop('TT4',axis=1,inplace=True)\n",
    "df.drop('FTI',axis=1,inplace=True)\n"
   ]
  },
  {
   "cell_type": "code",
   "execution_count": 31,
   "id": "1acdf764",
   "metadata": {},
   "outputs": [
    {
     "data": {
      "image/png": "[encoded data removed]",
      "text/plain": [
       "<Figure size 2000x2000 with 20 Axes>"
      ]
     },
     "metadata": {},
     "output_type": "display_data"
    }
   ],
   "source": [
    "df.hist(bins=25,figsize=(20,20));"
   ]
  },
  {
   "cell_type": "markdown",
   "id": "64ae8af9",
   "metadata": {},
   "source": [
    "#### preprocessing techniques"
   ]
  },
  {
   "cell_type": "code",
   "execution_count": 32,
   "id": "e1b5b912",
   "metadata": {},
   "outputs": [],
   "source": [
    "X = df.drop('target',axis=1)\n",
    "y = df.target\n",
    "df2 = X"
   ]
  },
  {
   "cell_type": "code",
   "execution_count": 33,
   "id": "17d052b2",
   "metadata": {},
   "outputs": [
    {
     "data": {
      "text/plain": [
       "array([29, 28,  6,  1, 27, 13, 19, 22,  8, 15,  0, 16, 17, 21, 26, 14,  3,\n",
       "       23, 18, 12,  4, 10, 20, 25,  7,  2,  9, 11, 24,  5])"
      ]
     },
     "execution_count": 33,
     "metadata": {},
     "output_type": "execute_result"
    }
   ],
   "source": [
    "y.unique()"
   ]
  },
  {
   "cell_type": "markdown",
   "id": "f2202333",
   "metadata": {},
   "source": [
    "#### PCA Technique"
   ]
  },
  {
   "cell_type": "code",
   "execution_count": 34,
   "id": "59bc4fc9",
   "metadata": {},
   "outputs": [],
   "source": [
    "from sklearn.decomposition import PCA\n",
    "pca = PCA(n_components=10)"
   ]
  },
  {
   "cell_type": "code",
   "execution_count": 35,
   "id": "1003f06c",
   "metadata": {},
   "outputs": [],
   "source": [
    "v = pca.fit_transform(X)"
   ]
  },
  {
   "cell_type": "code",
   "execution_count": 36,
   "id": "cb32ec5f",
   "metadata": {},
   "outputs": [],
   "source": [
    "\n",
    "num_components = 10  \n",
    "\n",
    "X_pca = pd.DataFrame(data=v, columns=[f'component_{i+1}' for i in range(num_components)])\n"
   ]
  },
  {
   "cell_type": "code",
   "execution_count": 37,
   "id": "fc748b4e",
   "metadata": {},
   "outputs": [
    {
     "data": {
      "text/html": [
       "<div>\n",
       "<style scoped>\n",
       "    .dataframe tbody tr th:only-of-type {\n",
       "        vertical-align: middle;\n",
       "    }\n",
       "\n",
       "    .dataframe tbody tr th {\n",
       "        vertical-align: top;\n",
       "    }\n",
       "\n",
       "    .dataframe thead th {\n",
       "        text-align: right;\n",
       "    }\n",
       "</style>\n",
       "<table border=\"1\" class=\"dataframe\">\n",
       "  <thead>\n",
       "    <tr style=\"text-align: right;\">\n",
       "      <th></th>\n",
       "      <th>component_1</th>\n",
       "      <th>component_2</th>\n",
       "      <th>component_3</th>\n",
       "      <th>component_4</th>\n",
       "      <th>component_5</th>\n",
       "      <th>component_6</th>\n",
       "      <th>component_7</th>\n",
       "      <th>component_8</th>\n",
       "      <th>component_9</th>\n",
       "      <th>component_10</th>\n",
       "    </tr>\n",
       "  </thead>\n",
       "  <tbody>\n",
       "    <tr>\n",
       "      <th>0</th>\n",
       "      <td>-44.560402</td>\n",
       "      <td>-3.621894</td>\n",
       "      <td>-0.071759</td>\n",
       "      <td>-0.277418</td>\n",
       "      <td>-0.187788</td>\n",
       "      <td>-0.101193</td>\n",
       "      <td>-0.011291</td>\n",
       "      <td>-0.036827</td>\n",
       "      <td>-0.054225</td>\n",
       "      <td>0.025318</td>\n",
       "    </tr>\n",
       "    <tr>\n",
       "      <th>1</th>\n",
       "      <td>-32.560678</td>\n",
       "      <td>-0.002527</td>\n",
       "      <td>0.073974</td>\n",
       "      <td>-0.306726</td>\n",
       "      <td>-0.251368</td>\n",
       "      <td>0.769870</td>\n",
       "      <td>-0.459961</td>\n",
       "      <td>0.084916</td>\n",
       "      <td>0.004565</td>\n",
       "      <td>0.035566</td>\n",
       "    </tr>\n",
       "    <tr>\n",
       "      <th>2</th>\n",
       "      <td>-37.560682</td>\n",
       "      <td>-0.002712</td>\n",
       "      <td>0.014065</td>\n",
       "      <td>-0.268551</td>\n",
       "      <td>-0.187090</td>\n",
       "      <td>-0.105037</td>\n",
       "      <td>-0.009696</td>\n",
       "      <td>-0.037687</td>\n",
       "      <td>-0.052517</td>\n",
       "      <td>0.034009</td>\n",
       "    </tr>\n",
       "    <tr>\n",
       "      <th>3</th>\n",
       "      <td>-41.560682</td>\n",
       "      <td>-0.003022</td>\n",
       "      <td>0.014072</td>\n",
       "      <td>-0.268528</td>\n",
       "      <td>-0.187095</td>\n",
       "      <td>-0.105023</td>\n",
       "      <td>-0.009705</td>\n",
       "      <td>-0.037690</td>\n",
       "      <td>-0.052519</td>\n",
       "      <td>0.034009</td>\n",
       "    </tr>\n",
       "    <tr>\n",
       "      <th>4</th>\n",
       "      <td>-13.560682</td>\n",
       "      <td>-0.000852</td>\n",
       "      <td>0.014020</td>\n",
       "      <td>-0.268687</td>\n",
       "      <td>-0.187058</td>\n",
       "      <td>-0.105119</td>\n",
       "      <td>-0.009647</td>\n",
       "      <td>-0.037670</td>\n",
       "      <td>-0.052506</td>\n",
       "      <td>0.034008</td>\n",
       "    </tr>\n",
       "    <tr>\n",
       "      <th>...</th>\n",
       "      <td>...</td>\n",
       "      <td>...</td>\n",
       "      <td>...</td>\n",
       "      <td>...</td>\n",
       "      <td>...</td>\n",
       "      <td>...</td>\n",
       "      <td>...</td>\n",
       "      <td>...</td>\n",
       "      <td>...</td>\n",
       "      <td>...</td>\n",
       "    </tr>\n",
       "    <tr>\n",
       "      <th>9166</th>\n",
       "      <td>-17.560672</td>\n",
       "      <td>-0.002185</td>\n",
       "      <td>0.003052</td>\n",
       "      <td>0.680388</td>\n",
       "      <td>-0.077381</td>\n",
       "      <td>0.842177</td>\n",
       "      <td>-0.453805</td>\n",
       "      <td>0.039137</td>\n",
       "      <td>-0.004048</td>\n",
       "      <td>0.075204</td>\n",
       "    </tr>\n",
       "    <tr>\n",
       "      <th>9167</th>\n",
       "      <td>-51.560676</td>\n",
       "      <td>-0.004563</td>\n",
       "      <td>-0.049425</td>\n",
       "      <td>0.710605</td>\n",
       "      <td>-0.012736</td>\n",
       "      <td>-0.033802</td>\n",
       "      <td>-0.002681</td>\n",
       "      <td>-0.082536</td>\n",
       "      <td>-0.058838</td>\n",
       "      <td>-0.012080</td>\n",
       "    </tr>\n",
       "    <tr>\n",
       "      <th>9168</th>\n",
       "      <td>-4.560676</td>\n",
       "      <td>-0.000708</td>\n",
       "      <td>-0.020822</td>\n",
       "      <td>0.678750</td>\n",
       "      <td>-0.011097</td>\n",
       "      <td>-0.038529</td>\n",
       "      <td>0.000989</td>\n",
       "      <td>-0.078803</td>\n",
       "      <td>-0.049851</td>\n",
       "      <td>-0.345463</td>\n",
       "    </tr>\n",
       "    <tr>\n",
       "      <th>9169</th>\n",
       "      <td>-26.560682</td>\n",
       "      <td>-0.001935</td>\n",
       "      <td>0.003711</td>\n",
       "      <td>-0.257237</td>\n",
       "      <td>-0.187644</td>\n",
       "      <td>-0.103431</td>\n",
       "      <td>-0.010961</td>\n",
       "      <td>-0.039012</td>\n",
       "      <td>-0.055741</td>\n",
       "      <td>0.154079</td>\n",
       "    </tr>\n",
       "    <tr>\n",
       "      <th>9170</th>\n",
       "      <td>-42.560677</td>\n",
       "      <td>-0.003205</td>\n",
       "      <td>-0.056398</td>\n",
       "      <td>0.635143</td>\n",
       "      <td>0.138443</td>\n",
       "      <td>0.419308</td>\n",
       "      <td>0.871309</td>\n",
       "      <td>-0.045215</td>\n",
       "      <td>-0.071982</td>\n",
       "      <td>-0.107090</td>\n",
       "    </tr>\n",
       "  </tbody>\n",
       "</table>\n",
       "<p>9171 rows × 10 columns</p>\n",
       "</div>"
      ],
      "text/plain": [
       "      component_1  component_2  component_3  component_4  component_5  \\\n",
       "0      -44.560402    -3.621894    -0.071759    -0.277418    -0.187788   \n",
       "1      -32.560678    -0.002527     0.073974    -0.306726    -0.251368   \n",
       "2      -37.560682    -0.002712     0.014065    -0.268551    -0.187090   \n",
       "3      -41.560682    -0.003022     0.014072    -0.268528    -0.187095   \n",
       "4      -13.560682    -0.000852     0.014020    -0.268687    -0.187058   \n",
       "...           ...          ...          ...          ...          ...   \n",
       "9166   -17.560672    -0.002185     0.003052     0.680388    -0.077381   \n",
       "9167   -51.560676    -0.004563    -0.049425     0.710605    -0.012736   \n",
       "9168    -4.560676    -0.000708    -0.020822     0.678750    -0.011097   \n",
       "9169   -26.560682    -0.001935     0.003711    -0.257237    -0.187644   \n",
       "9170   -42.560677    -0.003205    -0.056398     0.635143     0.138443   \n",
       "\n",
       "      component_6  component_7  component_8  component_9  component_10  \n",
       "0       -0.101193    -0.011291    -0.036827    -0.054225      0.025318  \n",
       "1        0.769870    -0.459961     0.084916     0.004565      0.035566  \n",
       "2       -0.105037    -0.009696    -0.037687    -0.052517      0.034009  \n",
       "3       -0.105023    -0.009705    -0.037690    -0.052519      0.034009  \n",
       "4       -0.105119    -0.009647    -0.037670    -0.052506      0.034008  \n",
       "...           ...          ...          ...          ...           ...  \n",
       "9166     0.842177    -0.453805     0.039137    -0.004048      0.075204  \n",
       "9167    -0.033802    -0.002681    -0.082536    -0.058838     -0.012080  \n",
       "9168    -0.038529     0.000989    -0.078803    -0.049851     -0.345463  \n",
       "9169    -0.103431    -0.010961    -0.039012    -0.055741      0.154079  \n",
       "9170     0.419308     0.871309    -0.045215    -0.071982     -0.107090  \n",
       "\n",
       "[9171 rows x 10 columns]"
      ]
     },
     "execution_count": 37,
     "metadata": {},
     "output_type": "execute_result"
    }
   ],
   "source": [
    "X_pca"
   ]
  },
  {
   "cell_type": "code",
   "execution_count": 38,
   "id": "a2a4bde4",
   "metadata": {},
   "outputs": [],
   "source": [
    "from sklearn.preprocessing import MinMaxScaler\n",
    "scaler = MinMaxScaler()"
   ]
  },
  {
   "cell_type": "code",
   "execution_count": 39,
   "id": "ca050d04",
   "metadata": {},
   "outputs": [],
   "source": [
    "from sklearn.preprocessing import StandardScaler\n",
    "\n",
    "scaler = StandardScaler()\n",
    "\n",
    "for col in X_pca.columns:\n",
    "    X_pca[col] = scaler.fit_transform(X_pca[[col]])\n"
   ]
  },
  {
   "cell_type": "code",
   "execution_count": 40,
   "id": "51d246d8",
   "metadata": {},
   "outputs": [
    {
     "data": {
      "image/png": "[encoded data removed]",
      "text/plain": [
       "<Figure size 4000x4000 with 12 Axes>"
      ]
     },
     "metadata": {},
     "output_type": "display_data"
    }
   ],
   "source": [
    "X_pca.hist(bins=25,figsize=(40,40));"
   ]
  },
  {
   "cell_type": "code",
   "execution_count": 41,
   "id": "85d7799a",
   "metadata": {},
   "outputs": [
    {
     "data": {
      "text/html": [
       "<div>\n",
       "<style scoped>\n",
       "    .dataframe tbody tr th:only-of-type {\n",
       "        vertical-align: middle;\n",
       "    }\n",
       "\n",
       "    .dataframe tbody tr th {\n",
       "        vertical-align: top;\n",
       "    }\n",
       "\n",
       "    .dataframe thead th {\n",
       "        text-align: right;\n",
       "    }\n",
       "</style>\n",
       "<table border=\"1\" class=\"dataframe\">\n",
       "  <thead>\n",
       "    <tr style=\"text-align: right;\">\n",
       "      <th></th>\n",
       "      <th>component_1</th>\n",
       "      <th>component_2</th>\n",
       "      <th>component_3</th>\n",
       "      <th>component_4</th>\n",
       "      <th>component_5</th>\n",
       "      <th>component_6</th>\n",
       "      <th>component_7</th>\n",
       "      <th>component_8</th>\n",
       "      <th>component_9</th>\n",
       "      <th>component_10</th>\n",
       "    </tr>\n",
       "  </thead>\n",
       "  <tbody>\n",
       "    <tr>\n",
       "      <th>0</th>\n",
       "      <td>-0.037636</td>\n",
       "      <td>-0.157152</td>\n",
       "      <td>-0.095835</td>\n",
       "      <td>-0.596508</td>\n",
       "      <td>-0.550912</td>\n",
       "      <td>-0.396191</td>\n",
       "      <td>-0.045769</td>\n",
       "      <td>-0.178081</td>\n",
       "      <td>-0.287838</td>\n",
       "      <td>0.140220</td>\n",
       "    </tr>\n",
       "    <tr>\n",
       "      <th>1</th>\n",
       "      <td>-0.027501</td>\n",
       "      <td>-0.000110</td>\n",
       "      <td>0.098793</td>\n",
       "      <td>-0.659528</td>\n",
       "      <td>-0.737436</td>\n",
       "      <td>3.014193</td>\n",
       "      <td>-1.864417</td>\n",
       "      <td>0.410627</td>\n",
       "      <td>0.024234</td>\n",
       "      <td>0.196980</td>\n",
       "    </tr>\n",
       "    <tr>\n",
       "      <th>2</th>\n",
       "      <td>-0.031724</td>\n",
       "      <td>-0.000118</td>\n",
       "      <td>0.018783</td>\n",
       "      <td>-0.577442</td>\n",
       "      <td>-0.548863</td>\n",
       "      <td>-0.411239</td>\n",
       "      <td>-0.039304</td>\n",
       "      <td>-0.182243</td>\n",
       "      <td>-0.278770</td>\n",
       "      <td>0.188353</td>\n",
       "    </tr>\n",
       "    <tr>\n",
       "      <th>3</th>\n",
       "      <td>-0.035103</td>\n",
       "      <td>-0.000131</td>\n",
       "      <td>0.018793</td>\n",
       "      <td>-0.577394</td>\n",
       "      <td>-0.548879</td>\n",
       "      <td>-0.411185</td>\n",
       "      <td>-0.039337</td>\n",
       "      <td>-0.182257</td>\n",
       "      <td>-0.278780</td>\n",
       "      <td>0.188353</td>\n",
       "    </tr>\n",
       "    <tr>\n",
       "      <th>4</th>\n",
       "      <td>-0.011454</td>\n",
       "      <td>-0.000037</td>\n",
       "      <td>0.018724</td>\n",
       "      <td>-0.577736</td>\n",
       "      <td>-0.548770</td>\n",
       "      <td>-0.411564</td>\n",
       "      <td>-0.039105</td>\n",
       "      <td>-0.182160</td>\n",
       "      <td>-0.278715</td>\n",
       "      <td>0.188351</td>\n",
       "    </tr>\n",
       "    <tr>\n",
       "      <th>...</th>\n",
       "      <td>...</td>\n",
       "      <td>...</td>\n",
       "      <td>...</td>\n",
       "      <td>...</td>\n",
       "      <td>...</td>\n",
       "      <td>...</td>\n",
       "      <td>...</td>\n",
       "      <td>...</td>\n",
       "      <td>...</td>\n",
       "      <td>...</td>\n",
       "    </tr>\n",
       "    <tr>\n",
       "      <th>9166</th>\n",
       "      <td>-0.014832</td>\n",
       "      <td>-0.000095</td>\n",
       "      <td>0.004077</td>\n",
       "      <td>1.462981</td>\n",
       "      <td>-0.227013</td>\n",
       "      <td>3.297293</td>\n",
       "      <td>-1.839467</td>\n",
       "      <td>0.189254</td>\n",
       "      <td>-0.021489</td>\n",
       "      <td>0.416508</td>\n",
       "    </tr>\n",
       "    <tr>\n",
       "      <th>9167</th>\n",
       "      <td>-0.043549</td>\n",
       "      <td>-0.000198</td>\n",
       "      <td>-0.066008</td>\n",
       "      <td>1.527955</td>\n",
       "      <td>-0.037363</td>\n",
       "      <td>-0.132343</td>\n",
       "      <td>-0.010867</td>\n",
       "      <td>-0.399116</td>\n",
       "      <td>-0.312322</td>\n",
       "      <td>-0.066901</td>\n",
       "    </tr>\n",
       "    <tr>\n",
       "      <th>9168</th>\n",
       "      <td>-0.003852</td>\n",
       "      <td>-0.000031</td>\n",
       "      <td>-0.027808</td>\n",
       "      <td>1.459459</td>\n",
       "      <td>-0.032554</td>\n",
       "      <td>-0.150848</td>\n",
       "      <td>0.004011</td>\n",
       "      <td>-0.381065</td>\n",
       "      <td>-0.264618</td>\n",
       "      <td>-1.913294</td>\n",
       "    </tr>\n",
       "    <tr>\n",
       "      <th>9169</th>\n",
       "      <td>-0.022433</td>\n",
       "      <td>-0.000084</td>\n",
       "      <td>0.004956</td>\n",
       "      <td>-0.553114</td>\n",
       "      <td>-0.550487</td>\n",
       "      <td>-0.404952</td>\n",
       "      <td>-0.044431</td>\n",
       "      <td>-0.188648</td>\n",
       "      <td>-0.295887</td>\n",
       "      <td>0.853346</td>\n",
       "    </tr>\n",
       "    <tr>\n",
       "      <th>9170</th>\n",
       "      <td>-0.035947</td>\n",
       "      <td>-0.000139</td>\n",
       "      <td>-0.075320</td>\n",
       "      <td>1.365695</td>\n",
       "      <td>0.406148</td>\n",
       "      <td>1.641675</td>\n",
       "      <td>3.531788</td>\n",
       "      <td>-0.218646</td>\n",
       "      <td>-0.382096</td>\n",
       "      <td>-0.593100</td>\n",
       "    </tr>\n",
       "  </tbody>\n",
       "</table>\n",
       "<p>9171 rows × 10 columns</p>\n",
       "</div>"
      ],
      "text/plain": [
       "      component_1  component_2  component_3  component_4  component_5  \\\n",
       "0       -0.037636    -0.157152    -0.095835    -0.596508    -0.550912   \n",
       "1       -0.027501    -0.000110     0.098793    -0.659528    -0.737436   \n",
       "2       -0.031724    -0.000118     0.018783    -0.577442    -0.548863   \n",
       "3       -0.035103    -0.000131     0.018793    -0.577394    -0.548879   \n",
       "4       -0.011454    -0.000037     0.018724    -0.577736    -0.548770   \n",
       "...           ...          ...          ...          ...          ...   \n",
       "9166    -0.014832    -0.000095     0.004077     1.462981    -0.227013   \n",
       "9167    -0.043549    -0.000198    -0.066008     1.527955    -0.037363   \n",
       "9168    -0.003852    -0.000031    -0.027808     1.459459    -0.032554   \n",
       "9169    -0.022433    -0.000084     0.004956    -0.553114    -0.550487   \n",
       "9170    -0.035947    -0.000139    -0.075320     1.365695     0.406148   \n",
       "\n",
       "      component_6  component_7  component_8  component_9  component_10  \n",
       "0       -0.396191    -0.045769    -0.178081    -0.287838      0.140220  \n",
       "1        3.014193    -1.864417     0.410627     0.024234      0.196980  \n",
       "2       -0.411239    -0.039304    -0.182243    -0.278770      0.188353  \n",
       "3       -0.411185    -0.039337    -0.182257    -0.278780      0.188353  \n",
       "4       -0.411564    -0.039105    -0.182160    -0.278715      0.188351  \n",
       "...           ...          ...          ...          ...           ...  \n",
       "9166     3.297293    -1.839467     0.189254    -0.021489      0.416508  \n",
       "9167    -0.132343    -0.010867    -0.399116    -0.312322     -0.066901  \n",
       "9168    -0.150848     0.004011    -0.381065    -0.264618     -1.913294  \n",
       "9169    -0.404952    -0.044431    -0.188648    -0.295887      0.853346  \n",
       "9170     1.641675     3.531788    -0.218646    -0.382096     -0.593100  \n",
       "\n",
       "[9171 rows x 10 columns]"
      ]
     },
     "execution_count": 41,
     "metadata": {},
     "output_type": "execute_result"
    }
   ],
   "source": [
    "X_pca"
   ]
  },
  {
   "cell_type": "code",
   "execution_count": 42,
   "id": "5aeb7cb5",
   "metadata": {},
   "outputs": [],
   "source": [
    "from sklearn.model_selection import train_test_split\n",
    "\n",
    "X_train, X_test, y_train, y_test = train_test_split(X_pca, y, test_size=0.2, random_state=42)\n"
   ]
  },
  {
   "cell_type": "markdown",
   "id": "c67dfa98",
   "metadata": {},
   "source": [
    "#### model selection"
   ]
  },
  {
   "cell_type": "code",
   "execution_count": 43,
   "id": "a77924bb",
   "metadata": {},
   "outputs": [],
   "source": [
    "from sklearn.metrics import accuracy_score"
   ]
  },
  {
   "cell_type": "markdown",
   "id": "da241477",
   "metadata": {},
   "source": [
    "#### Decision Tree Classifier"
   ]
  },
  {
   "cell_type": "code",
   "execution_count": 44,
   "id": "713f1442",
   "metadata": {},
   "outputs": [],
   "source": [
    "from sklearn.tree import DecisionTreeClassifier\n"
   ]
  },
  {
   "cell_type": "code",
   "execution_count": 45,
   "id": "106e02e2",
   "metadata": {},
   "outputs": [],
   "source": [
    "from sklearn.model_selection import train_test_split, GridSearchCV, cross_val_score"
   ]
  },
  {
   "cell_type": "code",
   "execution_count": 46,
   "id": "882dd327",
   "metadata": {},
   "outputs": [
    {
     "name": "stderr",
     "output_type": "stream",
     "text": [
      "C:\\Users\\user\\anaconda3\\Lib\\site-packages\\sklearn\\model_selection\\_split.py:737: UserWarning: The least populated class in y has only 1 members, which is less than n_splits=5.\n",
      "  warnings.warn(\n"
     ]
    },
    {
     "data": {
      "text/plain": [
       "{'criterion': 'entropy',\n",
       " 'max_depth': 8,\n",
       " 'max_features': None,\n",
       " 'splitter': 'best'}"
      ]
     },
     "execution_count": 46,
     "metadata": {},
     "output_type": "execute_result"
    }
   ],
   "source": [
    "param_grid = {\"criterion\" : [\"gini\", \"entropy\"],\n",
    "              \"splitter\" :   [\"best\", \"random\"],\n",
    "              \"max_depth\" : [8, 16, 32, 64, 128, None],\n",
    "              \"max_features\" : ['sqrt', 'log2', None]\n",
    "             }\n",
    "\n",
    "DTC = DecisionTreeClassifier(random_state = 0, max_features = \"auto\")\n",
    "\n",
    "# run grid search\n",
    "grid_search_ABC = GridSearchCV(DTC, param_grid=param_grid, scoring = 'accuracy')\n",
    "\n",
    "grid_search_ABC.fit(X_train, y_train)\n",
    "\n",
    "grid_search_ABC.best_params_"
   ]
  },
  {
   "cell_type": "code",
   "execution_count": 47,
   "id": "9f54e74a",
   "metadata": {},
   "outputs": [],
   "source": [
    "from sklearn.tree import DecisionTreeClassifier\n",
    "tree = DecisionTreeClassifier(max_depth=8,random_state = 0, max_features = None, \n",
    "                              criterion = 'entropy' )\n",
    "tree.fit(X_train, y_train)\n",
    "#clf = tree.fit(X_train,y_train)\n",
    "treepredict = tree.predict(X_test)\n",
    "\n"
   ]
  },
  {
   "cell_type": "code",
   "execution_count": 48,
   "id": "b013b2ec",
   "metadata": {},
   "outputs": [
    {
     "data": {
      "text/plain": [
       "0.8408719346049046"
      ]
     },
     "execution_count": 48,
     "metadata": {},
     "output_type": "execute_result"
    }
   ],
   "source": [
    "accuracy_score(treepredict,y_test)\n",
    "#print(f\"Accuracy Score: {accuracy}\")"
   ]
  },
  {
   "cell_type": "markdown",
   "id": "8641d681",
   "metadata": {},
   "source": [
    "#### Random Forest Classifier"
   ]
  },
  {
   "cell_type": "code",
   "execution_count": 99,
   "id": "351ec720",
   "metadata": {},
   "outputs": [],
   "source": [
    "from sklearn.ensemble import RandomForestClassifier\n"
   ]
  },
  {
   "cell_type": "code",
   "execution_count": 100,
   "id": "adbef520",
   "metadata": {},
   "outputs": [],
   "source": [
    "from sklearn.model_selection import train_test_split, GridSearchCV, cross_val_score"
   ]
  },
  {
   "cell_type": "code",
   "execution_count": 102,
   "id": "eb9ce012",
   "metadata": {},
   "outputs": [
    {
     "name": "stderr",
     "output_type": "stream",
     "text": [
      "C:\\Users\\user\\anaconda3\\Lib\\site-packages\\sklearn\\model_selection\\_split.py:737: UserWarning: The least populated class in y has only 1 members, which is less than n_splits=5.\n",
      "  warnings.warn(\n"
     ]
    },
    {
     "data": {
      "text/plain": [
       "{'criterion': 'entropy',\n",
       " 'max_depth': 8,\n",
       " 'max_features': 'log2',\n",
       " 'n_estimators': 75}"
      ]
     },
     "execution_count": 102,
     "metadata": {},
     "output_type": "execute_result"
    }
   ],
   "source": [
    "param_grid = {\"criterion\" : [\"gini\", \"entropy\"],\n",
    "              \"max_features\" : ['sqrt', 'log2'],\n",
    "              \"max_depth\" : [8, 16, 32, 64, 128],\n",
    "              \"n_estimators\" : [25, 50, 75, 100]\n",
    "             }\n",
    "\n",
    "clf = RandomForestClassifier()\n",
    "\n",
    "# run grid search\n",
    "grid_search_ABC = GridSearchCV(clf, param_grid=param_grid, scoring = 'accuracy')\n",
    "\n",
    "grid_search_ABC.fit(X_train, y_train)\n",
    "\n",
    "grid_search_ABC.best_params_"
   ]
  },
  {
   "cell_type": "code",
   "execution_count": null,
   "id": "88c37d88",
   "metadata": {},
   "outputs": [],
   "source": []
  },
  {
   "cell_type": "code",
   "execution_count": null,
   "id": "c8e7966b",
   "metadata": {},
   "outputs": [],
   "source": []
  },
  {
   "cell_type": "code",
   "execution_count": 103,
   "id": "3a573ee1",
   "metadata": {},
   "outputs": [
    {
     "data": {
      "text/html": [
       "<style>#sk-container-id-5 {color: black;}#sk-container-id-5 pre{padding: 0;}#sk-container-id-5 div.sk-toggleable {background-color: white;}#sk-container-id-5 label.sk-toggleable__label {cursor: pointer;display: block;width: 100%;margin-bottom: 0;padding: 0.3em;box-sizing: border-box;text-align: center;}#sk-container-id-5 label.sk-toggleable__label-arrow:before {content: \"▸\";float: left;margin-right: 0.25em;color: #696969;}#sk-container-id-5 label.sk-toggleable__label-arrow:hover:before {color: black;}#sk-container-id-5 div.sk-estimator:hover label.sk-toggleable__label-arrow:before {color: black;}#sk-container-id-5 div.sk-toggleable__content {max-height: 0;max-width: 0;overflow: hidden;text-align: left;background-color: #f0f8ff;}#sk-container-id-5 div.sk-toggleable__content pre {margin: 0.2em;color: black;border-radius: 0.25em;background-color: #f0f8ff;}#sk-container-id-5 input.sk-toggleable__control:checked~div.sk-toggleable__content {max-height: 200px;max-width: 100%;overflow: auto;}#sk-container-id-5 input.sk-toggleable__control:checked~label.sk-toggleable__label-arrow:before {content: \"▾\";}#sk-container-id-5 div.sk-estimator input.sk-toggleable__control:checked~label.sk-toggleable__label {background-color: #d4ebff;}#sk-container-id-5 div.sk-label input.sk-toggleable__control:checked~label.sk-toggleable__label {background-color: #d4ebff;}#sk-container-id-5 input.sk-hidden--visually {border: 0;clip: rect(1px 1px 1px 1px);clip: rect(1px, 1px, 1px, 1px);height: 1px;margin: -1px;overflow: hidden;padding: 0;position: absolute;width: 1px;}#sk-container-id-5 div.sk-estimator {font-family: monospace;background-color: #f0f8ff;border: 1px dotted black;border-radius: 0.25em;box-sizing: border-box;margin-bottom: 0.5em;}#sk-container-id-5 div.sk-estimator:hover {background-color: #d4ebff;}#sk-container-id-5 div.sk-parallel-item::after {content: \"\";width: 100%;border-bottom: 1px solid gray;flex-grow: 1;}#sk-container-id-5 div.sk-label:hover label.sk-toggleable__label {background-color: #d4ebff;}#sk-container-id-5 div.sk-serial::before {content: \"\";position: absolute;border-left: 1px solid gray;box-sizing: border-box;top: 0;bottom: 0;left: 50%;z-index: 0;}#sk-container-id-5 div.sk-serial {display: flex;flex-direction: column;align-items: center;background-color: white;padding-right: 0.2em;padding-left: 0.2em;position: relative;}#sk-container-id-5 div.sk-item {position: relative;z-index: 1;}#sk-container-id-5 div.sk-parallel {display: flex;align-items: stretch;justify-content: center;background-color: white;position: relative;}#sk-container-id-5 div.sk-item::before, #sk-container-id-5 div.sk-parallel-item::before {content: \"\";position: absolute;border-left: 1px solid gray;box-sizing: border-box;top: 0;bottom: 0;left: 50%;z-index: -1;}#sk-container-id-5 div.sk-parallel-item {display: flex;flex-direction: column;z-index: 1;position: relative;background-color: white;}#sk-container-id-5 div.sk-parallel-item:first-child::after {align-self: flex-end;width: 50%;}#sk-container-id-5 div.sk-parallel-item:last-child::after {align-self: flex-start;width: 50%;}#sk-container-id-5 div.sk-parallel-item:only-child::after {width: 0;}#sk-container-id-5 div.sk-dashed-wrapped {border: 1px dashed gray;margin: 0 0.4em 0.5em 0.4em;box-sizing: border-box;padding-bottom: 0.4em;background-color: white;}#sk-container-id-5 div.sk-label label {font-family: monospace;font-weight: bold;display: inline-block;line-height: 1.2em;}#sk-container-id-5 div.sk-label-container {text-align: center;}#sk-container-id-5 div.sk-container {/* jupyter's `normalize.less` sets `[hidden] { display: none; }` but bootstrap.min.css set `[hidden] { display: none !important; }` so we also need the `!important` here to be able to override the default hidden behavior on the sphinx rendered scikit-learn.org. See: https://github.com/scikit-learn/scikit-learn/issues/21755 */display: inline-block !important;position: relative;}#sk-container-id-5 div.sk-text-repr-fallback {display: none;}</style><div id=\"sk-container-id-5\" class=\"sk-top-container\"><div class=\"sk-text-repr-fallback\"><pre>RandomForestClassifier(criterion=&#x27;entropy&#x27;, max_depth=8, max_features=&#x27;log2&#x27;,\n",
       "                       n_estimators=75)</pre><b>In a Jupyter environment, please rerun this cell to show the HTML representation or trust the notebook. <br />On GitHub, the HTML representation is unable to render, please try loading this page with nbviewer.org.</b></div><div class=\"sk-container\" hidden><div class=\"sk-item\"><div class=\"sk-estimator sk-toggleable\"><input class=\"sk-toggleable__control sk-hidden--visually\" id=\"sk-estimator-id-5\" type=\"checkbox\" checked><label for=\"sk-estimator-id-5\" class=\"sk-toggleable__label sk-toggleable__label-arrow\">RandomForestClassifier</label><div class=\"sk-toggleable__content\"><pre>RandomForestClassifier(criterion=&#x27;entropy&#x27;, max_depth=8, max_features=&#x27;log2&#x27;,\n",
       "                       n_estimators=75)</pre></div></div></div></div></div>"
      ],
      "text/plain": [
       "RandomForestClassifier(criterion='entropy', max_depth=8, max_features='log2',\n",
       "                       n_estimators=75)"
      ]
     },
     "execution_count": 103,
     "metadata": {},
     "output_type": "execute_result"
    }
   ],
   "source": [
    "clf = RandomForestClassifier(criterion = 'entropy', max_features = 'log2', max_depth = 8, n_estimators = 75)\n",
    "\n",
    "clf.fit(X_train, y_train)"
   ]
  },
  {
   "cell_type": "code",
   "execution_count": 104,
   "id": "d2c49526",
   "metadata": {},
   "outputs": [
    {
     "data": {
      "text/plain": [
       "array([15, 29, 15, ..., 29, 29,  0])"
      ]
     },
     "execution_count": 104,
     "metadata": {},
     "output_type": "execute_result"
    }
   ],
   "source": [
    "y_pred = clf.predict(X_test)\n",
    "y_pred"
   ]
  },
  {
   "cell_type": "code",
   "execution_count": 105,
   "id": "2a8134f4",
   "metadata": {},
   "outputs": [],
   "source": [
    "y_pred = y_pred.astype(int)\n",
    "\n",
    "y_test = y_test.astype(int)"
   ]
  },
  {
   "cell_type": "code",
   "execution_count": null,
   "id": "c6c23956",
   "metadata": {},
   "outputs": [],
   "source": [
    "\n"
   ]
  },
  {
   "cell_type": "code",
   "execution_count": 107,
   "id": "bb422d95",
   "metadata": {},
   "outputs": [
    {
     "name": "stdout",
     "output_type": "stream",
     "text": [
      "Accuracy Score: 0.852316076294278\n"
     ]
    }
   ],
   "source": [
    "from sklearn.ensemble import RandomForestClassifier\n",
    "from sklearn.metrics import accuracy_score\n",
    "\n",
    "\n",
    "X_train, X_test, y_train, y_test = train_test_split(X_pca, y, test_size=0.2, random_state=42)\n",
    "\n",
    "rf = RandomForestClassifier(max_depth=8, n_estimators=75)\n",
    "rclf = rf.fit(X_train, y_train)\n",
    "rfpred = rclf.predict(X_test)\n",
    "\n",
    "accuracy = accuracy_score(rfpred, y_test)\n",
    "print(f\"Accuracy Score: {accuracy}\")\n"
   ]
  },
  {
   "cell_type": "markdown",
   "id": "56015bbd",
   "metadata": {},
   "source": [
    "#### K-NN Classifier"
   ]
  },
  {
   "cell_type": "code",
   "execution_count": 56,
   "id": "65a8751b",
   "metadata": {},
   "outputs": [
    {
     "name": "stderr",
     "output_type": "stream",
     "text": [
      "C:\\Users\\user\\anaconda3\\Lib\\site-packages\\sklearn\\model_selection\\_split.py:737: UserWarning: The least populated class in y has only 1 members, which is less than n_splits=5.\n",
      "  warnings.warn(\n"
     ]
    },
    {
     "data": {
      "text/plain": [
       "{'n_neighbors': 30}"
      ]
     },
     "execution_count": 56,
     "metadata": {},
     "output_type": "execute_result"
    }
   ],
   "source": [
    "from sklearn.neighbors import KNeighborsClassifier\n",
    "from sklearn.metrics import accuracy_score\n",
    "from sklearn.model_selection import train_test_split, GridSearchCV, cross_val_score\n",
    "\n",
    "param_grid = {\"n_neighbors\" : [30, 60, 90, 120, 150, 180]\n",
    "             }\n",
    "\n",
    "clf = KNeighborsClassifier()\n",
    "\n",
    "# run grid search\n",
    "grid_search_ABC = GridSearchCV(clf, param_grid=param_grid, scoring = 'accuracy')\n",
    "\n",
    "grid_search_ABC.fit(X_train, y_train)\n",
    "\n",
    "grid_search_ABC.best_params_\n"
   ]
  },
  {
   "cell_type": "code",
   "execution_count": 57,
   "id": "bd22412f",
   "metadata": {},
   "outputs": [
    {
     "data": {
      "text/html": [
       "<style>#sk-container-id-1 {color: black;}#sk-container-id-1 pre{padding: 0;}#sk-container-id-1 div.sk-toggleable {background-color: white;}#sk-container-id-1 label.sk-toggleable__label {cursor: pointer;display: block;width: 100%;margin-bottom: 0;padding: 0.3em;box-sizing: border-box;text-align: center;}#sk-container-id-1 label.sk-toggleable__label-arrow:before {content: \"▸\";float: left;margin-right: 0.25em;color: #696969;}#sk-container-id-1 label.sk-toggleable__label-arrow:hover:before {color: black;}#sk-container-id-1 div.sk-estimator:hover label.sk-toggleable__label-arrow:before {color: black;}#sk-container-id-1 div.sk-toggleable__content {max-height: 0;max-width: 0;overflow: hidden;text-align: left;background-color: #f0f8ff;}#sk-container-id-1 div.sk-toggleable__content pre {margin: 0.2em;color: black;border-radius: 0.25em;background-color: #f0f8ff;}#sk-container-id-1 input.sk-toggleable__control:checked~div.sk-toggleable__content {max-height: 200px;max-width: 100%;overflow: auto;}#sk-container-id-1 input.sk-toggleable__control:checked~label.sk-toggleable__label-arrow:before {content: \"▾\";}#sk-container-id-1 div.sk-estimator input.sk-toggleable__control:checked~label.sk-toggleable__label {background-color: #d4ebff;}#sk-container-id-1 div.sk-label input.sk-toggleable__control:checked~label.sk-toggleable__label {background-color: #d4ebff;}#sk-container-id-1 input.sk-hidden--visually {border: 0;clip: rect(1px 1px 1px 1px);clip: rect(1px, 1px, 1px, 1px);height: 1px;margin: -1px;overflow: hidden;padding: 0;position: absolute;width: 1px;}#sk-container-id-1 div.sk-estimator {font-family: monospace;background-color: #f0f8ff;border: 1px dotted black;border-radius: 0.25em;box-sizing: border-box;margin-bottom: 0.5em;}#sk-container-id-1 div.sk-estimator:hover {background-color: #d4ebff;}#sk-container-id-1 div.sk-parallel-item::after {content: \"\";width: 100%;border-bottom: 1px solid gray;flex-grow: 1;}#sk-container-id-1 div.sk-label:hover label.sk-toggleable__label {background-color: #d4ebff;}#sk-container-id-1 div.sk-serial::before {content: \"\";position: absolute;border-left: 1px solid gray;box-sizing: border-box;top: 0;bottom: 0;left: 50%;z-index: 0;}#sk-container-id-1 div.sk-serial {display: flex;flex-direction: column;align-items: center;background-color: white;padding-right: 0.2em;padding-left: 0.2em;position: relative;}#sk-container-id-1 div.sk-item {position: relative;z-index: 1;}#sk-container-id-1 div.sk-parallel {display: flex;align-items: stretch;justify-content: center;background-color: white;position: relative;}#sk-container-id-1 div.sk-item::before, #sk-container-id-1 div.sk-parallel-item::before {content: \"\";position: absolute;border-left: 1px solid gray;box-sizing: border-box;top: 0;bottom: 0;left: 50%;z-index: -1;}#sk-container-id-1 div.sk-parallel-item {display: flex;flex-direction: column;z-index: 1;position: relative;background-color: white;}#sk-container-id-1 div.sk-parallel-item:first-child::after {align-self: flex-end;width: 50%;}#sk-container-id-1 div.sk-parallel-item:last-child::after {align-self: flex-start;width: 50%;}#sk-container-id-1 div.sk-parallel-item:only-child::after {width: 0;}#sk-container-id-1 div.sk-dashed-wrapped {border: 1px dashed gray;margin: 0 0.4em 0.5em 0.4em;box-sizing: border-box;padding-bottom: 0.4em;background-color: white;}#sk-container-id-1 div.sk-label label {font-family: monospace;font-weight: bold;display: inline-block;line-height: 1.2em;}#sk-container-id-1 div.sk-label-container {text-align: center;}#sk-container-id-1 div.sk-container {/* jupyter's `normalize.less` sets `[hidden] { display: none; }` but bootstrap.min.css set `[hidden] { display: none !important; }` so we also need the `!important` here to be able to override the default hidden behavior on the sphinx rendered scikit-learn.org. See: https://github.com/scikit-learn/scikit-learn/issues/21755 */display: inline-block !important;position: relative;}#sk-container-id-1 div.sk-text-repr-fallback {display: none;}</style><div id=\"sk-container-id-1\" class=\"sk-top-container\"><div class=\"sk-text-repr-fallback\"><pre>KNeighborsClassifier(n_neighbors=30)</pre><b>In a Jupyter environment, please rerun this cell to show the HTML representation or trust the notebook. <br />On GitHub, the HTML representation is unable to render, please try loading this page with nbviewer.org.</b></div><div class=\"sk-container\" hidden><div class=\"sk-item\"><div class=\"sk-estimator sk-toggleable\"><input class=\"sk-toggleable__control sk-hidden--visually\" id=\"sk-estimator-id-1\" type=\"checkbox\" checked><label for=\"sk-estimator-id-1\" class=\"sk-toggleable__label sk-toggleable__label-arrow\">KNeighborsClassifier</label><div class=\"sk-toggleable__content\"><pre>KNeighborsClassifier(n_neighbors=30)</pre></div></div></div></div></div>"
      ],
      "text/plain": [
       "KNeighborsClassifier(n_neighbors=30)"
      ]
     },
     "execution_count": 57,
     "metadata": {},
     "output_type": "execute_result"
    }
   ],
   "source": [
    "clf = KNeighborsClassifier(n_neighbors = 30)\n",
    "\n",
    "\n",
    "clf.fit(X_train, y_train)"
   ]
  },
  {
   "cell_type": "code",
   "execution_count": 58,
   "id": "c7f8bd4c",
   "metadata": {},
   "outputs": [
    {
     "data": {
      "text/plain": [
       "array([15, 29, 29, ..., 29, 29,  0])"
      ]
     },
     "execution_count": 58,
     "metadata": {},
     "output_type": "execute_result"
    }
   ],
   "source": [
    "y_pred = clf.predict(X_test)\n",
    "y_pred"
   ]
  },
  {
   "cell_type": "code",
   "execution_count": 60,
   "id": "45e05b2b",
   "metadata": {},
   "outputs": [],
   "source": [
    "y_pred = y_pred.astype(int)\n",
    "y_test = y_test.astype(int)"
   ]
  },
  {
   "cell_type": "code",
   "execution_count": 66,
   "id": "a8cf1f52",
   "metadata": {},
   "outputs": [
    {
     "data": {
      "image/png": "[encoded data removed]",
      "text/plain": [
       "<Figure size 640x480 with 2 Axes>"
      ]
     },
     "metadata": {},
     "output_type": "display_data"
    },
    {
     "name": "stdout",
     "output_type": "stream",
     "text": [
      "              precision    recall  f1-score   support\n",
      "\n",
      "           0       0.67      0.23      0.34        26\n",
      "           1       0.00      0.00      0.00         7\n",
      "           2       0.00      0.00      0.00         4\n",
      "           3       0.00      0.00      0.00         3\n",
      "           6       0.87      0.51      0.64        53\n",
      "           7       0.00      0.00      0.00         1\n",
      "           8       0.62      0.18      0.28        73\n",
      "           9       0.00      0.00      0.00         5\n",
      "          10       0.00      0.00      0.00         9\n",
      "          12       0.00      0.00      0.00         1\n",
      "          13       0.61      0.55      0.58        69\n",
      "          14       0.00      0.00      0.00         9\n",
      "          15       0.63      0.66      0.65        92\n",
      "          16       0.00      0.00      0.00         2\n",
      "          17       0.00      0.00      0.00        21\n",
      "          19       0.43      0.12      0.19        24\n",
      "          21       0.00      0.00      0.00         5\n",
      "          22       0.00      0.00      0.00        24\n",
      "          23       0.00      0.00      0.00         3\n",
      "          26       0.00      0.00      0.00         5\n",
      "          27       0.00      0.00      0.00        45\n",
      "          28       0.00      0.00      0.00        14\n",
      "          29       0.81      0.97      0.89      1340\n",
      "\n",
      "    accuracy                           0.79      1835\n",
      "   macro avg       0.20      0.14      0.16      1835\n",
      "weighted avg       0.71      0.79      0.74      1835\n",
      "\n"
     ]
    },
    {
     "name": "stderr",
     "output_type": "stream",
     "text": [
      "C:\\Users\\user\\anaconda3\\Lib\\site-packages\\sklearn\\metrics\\_classification.py:1471: UndefinedMetricWarning: Precision and F-score are ill-defined and being set to 0.0 in labels with no predicted samples. Use `zero_division` parameter to control this behavior.\n",
      "  _warn_prf(average, modifier, msg_start, len(result))\n",
      "C:\\Users\\user\\anaconda3\\Lib\\site-packages\\sklearn\\metrics\\_classification.py:1471: UndefinedMetricWarning: Precision and F-score are ill-defined and being set to 0.0 in labels with no predicted samples. Use `zero_division` parameter to control this behavior.\n",
      "  _warn_prf(average, modifier, msg_start, len(result))\n",
      "C:\\Users\\user\\anaconda3\\Lib\\site-packages\\sklearn\\metrics\\_classification.py:1471: UndefinedMetricWarning: Precision and F-score are ill-defined and being set to 0.0 in labels with no predicted samples. Use `zero_division` parameter to control this behavior.\n",
      "  _warn_prf(average, modifier, msg_start, len(result))\n"
     ]
    }
   ],
   "source": [
    "from sklearn.metrics import confusion_matrix, classification_report\n",
    "import seaborn as sn\n",
    "import matplotlib.pyplot as plt\n",
    "\n",
    "def draw_cm(actual, predicted):\n",
    "    cm = confusion_matrix(actual, predicted, labels=[1, 0])\n",
    "    sn.heatmap(cm, annot=True, fmt='.2f',\n",
    "              xticklabels=['Detected', 'NON_Detected'],\n",
    "              yticklabels=['Detected', 'NON_Detected'])\n",
    "    plt.ylabel('Actual Label')\n",
    "    plt.xlabel('Predicted Label')\n",
    "    plt.show()\n",
    "\n",
    "# Example usage\n",
    "draw_cm(y_test, y_pred)\n",
    "print(classification_report(y_test, y_pred))\n"
   ]
  },
  {
   "cell_type": "code",
   "execution_count": null,
   "id": "87073635",
   "metadata": {},
   "outputs": [],
   "source": []
  },
  {
   "cell_type": "markdown",
   "id": "3356373a",
   "metadata": {},
   "source": [
    "#### SVM"
   ]
  },
  {
   "cell_type": "code",
   "execution_count": 70,
   "id": "63a72f10",
   "metadata": {},
   "outputs": [
    {
     "name": "stderr",
     "output_type": "stream",
     "text": [
      "C:\\Users\\user\\anaconda3\\Lib\\site-packages\\sklearn\\model_selection\\_split.py:737: UserWarning: The least populated class in y has only 1 members, which is less than n_splits=5.\n",
      "  warnings.warn(\n"
     ]
    },
    {
     "data": {
      "text/plain": [
       "{'kernel': 'linear'}"
      ]
     },
     "execution_count": 70,
     "metadata": {},
     "output_type": "execute_result"
    }
   ],
   "source": [
    "from sklearn.svm import SVC\n",
    "from sklearn.metrics import accuracy_score\n",
    "from sklearn.model_selection import train_test_split, GridSearchCV, cross_val_score\n",
    "\n",
    "param_grid = {\"kernel\" : ['linear', 'poly', 'rbf', 'sigmoid']}\n",
    "\n",
    "clf = SVC(random_state = 0)\n",
    "\n",
    "# run grid search\n",
    "grid_search_ABC = GridSearchCV(clf, param_grid=param_grid, scoring = 'accuracy')\n",
    "\n",
    "grid_search_ABC.fit(X_train, y_train)\n",
    "\n",
    "grid_search_ABC.best_params_\n",
    "\n",
    "\n"
   ]
  },
  {
   "cell_type": "code",
   "execution_count": 71,
   "id": "4fbd50be",
   "metadata": {},
   "outputs": [
    {
     "data": {
      "text/html": [
       "<style>#sk-container-id-2 {color: black;}#sk-container-id-2 pre{padding: 0;}#sk-container-id-2 div.sk-toggleable {background-color: white;}#sk-container-id-2 label.sk-toggleable__label {cursor: pointer;display: block;width: 100%;margin-bottom: 0;padding: 0.3em;box-sizing: border-box;text-align: center;}#sk-container-id-2 label.sk-toggleable__label-arrow:before {content: \"▸\";float: left;margin-right: 0.25em;color: #696969;}#sk-container-id-2 label.sk-toggleable__label-arrow:hover:before {color: black;}#sk-container-id-2 div.sk-estimator:hover label.sk-toggleable__label-arrow:before {color: black;}#sk-container-id-2 div.sk-toggleable__content {max-height: 0;max-width: 0;overflow: hidden;text-align: left;background-color: #f0f8ff;}#sk-container-id-2 div.sk-toggleable__content pre {margin: 0.2em;color: black;border-radius: 0.25em;background-color: #f0f8ff;}#sk-container-id-2 input.sk-toggleable__control:checked~div.sk-toggleable__content {max-height: 200px;max-width: 100%;overflow: auto;}#sk-container-id-2 input.sk-toggleable__control:checked~label.sk-toggleable__label-arrow:before {content: \"▾\";}#sk-container-id-2 div.sk-estimator input.sk-toggleable__control:checked~label.sk-toggleable__label {background-color: #d4ebff;}#sk-container-id-2 div.sk-label input.sk-toggleable__control:checked~label.sk-toggleable__label {background-color: #d4ebff;}#sk-container-id-2 input.sk-hidden--visually {border: 0;clip: rect(1px 1px 1px 1px);clip: rect(1px, 1px, 1px, 1px);height: 1px;margin: -1px;overflow: hidden;padding: 0;position: absolute;width: 1px;}#sk-container-id-2 div.sk-estimator {font-family: monospace;background-color: #f0f8ff;border: 1px dotted black;border-radius: 0.25em;box-sizing: border-box;margin-bottom: 0.5em;}#sk-container-id-2 div.sk-estimator:hover {background-color: #d4ebff;}#sk-container-id-2 div.sk-parallel-item::after {content: \"\";width: 100%;border-bottom: 1px solid gray;flex-grow: 1;}#sk-container-id-2 div.sk-label:hover label.sk-toggleable__label {background-color: #d4ebff;}#sk-container-id-2 div.sk-serial::before {content: \"\";position: absolute;border-left: 1px solid gray;box-sizing: border-box;top: 0;bottom: 0;left: 50%;z-index: 0;}#sk-container-id-2 div.sk-serial {display: flex;flex-direction: column;align-items: center;background-color: white;padding-right: 0.2em;padding-left: 0.2em;position: relative;}#sk-container-id-2 div.sk-item {position: relative;z-index: 1;}#sk-container-id-2 div.sk-parallel {display: flex;align-items: stretch;justify-content: center;background-color: white;position: relative;}#sk-container-id-2 div.sk-item::before, #sk-container-id-2 div.sk-parallel-item::before {content: \"\";position: absolute;border-left: 1px solid gray;box-sizing: border-box;top: 0;bottom: 0;left: 50%;z-index: -1;}#sk-container-id-2 div.sk-parallel-item {display: flex;flex-direction: column;z-index: 1;position: relative;background-color: white;}#sk-container-id-2 div.sk-parallel-item:first-child::after {align-self: flex-end;width: 50%;}#sk-container-id-2 div.sk-parallel-item:last-child::after {align-self: flex-start;width: 50%;}#sk-container-id-2 div.sk-parallel-item:only-child::after {width: 0;}#sk-container-id-2 div.sk-dashed-wrapped {border: 1px dashed gray;margin: 0 0.4em 0.5em 0.4em;box-sizing: border-box;padding-bottom: 0.4em;background-color: white;}#sk-container-id-2 div.sk-label label {font-family: monospace;font-weight: bold;display: inline-block;line-height: 1.2em;}#sk-container-id-2 div.sk-label-container {text-align: center;}#sk-container-id-2 div.sk-container {/* jupyter's `normalize.less` sets `[hidden] { display: none; }` but bootstrap.min.css set `[hidden] { display: none !important; }` so we also need the `!important` here to be able to override the default hidden behavior on the sphinx rendered scikit-learn.org. See: https://github.com/scikit-learn/scikit-learn/issues/21755 */display: inline-block !important;position: relative;}#sk-container-id-2 div.sk-text-repr-fallback {display: none;}</style><div id=\"sk-container-id-2\" class=\"sk-top-container\"><div class=\"sk-text-repr-fallback\"><pre>SVC(kernel=&#x27;linear&#x27;, random_state=0)</pre><b>In a Jupyter environment, please rerun this cell to show the HTML representation or trust the notebook. <br />On GitHub, the HTML representation is unable to render, please try loading this page with nbviewer.org.</b></div><div class=\"sk-container\" hidden><div class=\"sk-item\"><div class=\"sk-estimator sk-toggleable\"><input class=\"sk-toggleable__control sk-hidden--visually\" id=\"sk-estimator-id-2\" type=\"checkbox\" checked><label for=\"sk-estimator-id-2\" class=\"sk-toggleable__label sk-toggleable__label-arrow\">SVC</label><div class=\"sk-toggleable__content\"><pre>SVC(kernel=&#x27;linear&#x27;, random_state=0)</pre></div></div></div></div></div>"
      ],
      "text/plain": [
       "SVC(kernel='linear', random_state=0)"
      ]
     },
     "execution_count": 71,
     "metadata": {},
     "output_type": "execute_result"
    }
   ],
   "source": [
    "clf = SVC(random_state = 0, kernel = 'linear')\n",
    "\n",
    "\n",
    "clf.fit(X_train, y_train)"
   ]
  },
  {
   "cell_type": "code",
   "execution_count": 72,
   "id": "ee3c33b6",
   "metadata": {},
   "outputs": [
    {
     "data": {
      "text/plain": [
       "array([15, 29, 15, ..., 29, 29, 29])"
      ]
     },
     "execution_count": 72,
     "metadata": {},
     "output_type": "execute_result"
    }
   ],
   "source": [
    "y_pred = clf.predict(X_test)\n",
    "y_pred"
   ]
  },
  {
   "cell_type": "code",
   "execution_count": 73,
   "id": "3f52f33f",
   "metadata": {},
   "outputs": [],
   "source": [
    "y_pred = y_pred.astype(int)\n",
    "y_test = y_test.astype(int)"
   ]
  },
  {
   "cell_type": "code",
   "execution_count": 75,
   "id": "1518c880",
   "metadata": {},
   "outputs": [
    {
     "data": {
      "image/png": "[encoded data removed]",
      "text/plain": [
       "<Figure size 640x480 with 2 Axes>"
      ]
     },
     "metadata": {},
     "output_type": "display_data"
    },
    {
     "name": "stdout",
     "output_type": "stream",
     "text": [
      "              precision    recall  f1-score   support\n",
      "\n",
      "           0       0.67      0.31      0.42        26\n",
      "           1       0.00      0.00      0.00         7\n",
      "           2       0.00      0.00      0.00         4\n",
      "           3       0.00      0.00      0.00         3\n",
      "           6       0.85      0.66      0.74        53\n",
      "           7       0.00      0.00      0.00         1\n",
      "           8       0.67      0.44      0.53        73\n",
      "           9       0.00      0.00      0.00         5\n",
      "          10       1.00      0.22      0.36         9\n",
      "          12       0.00      0.00      0.00         1\n",
      "          13       0.56      0.33      0.42        69\n",
      "          14       0.00      0.00      0.00         9\n",
      "          15       0.68      0.82      0.74        92\n",
      "          16       0.00      0.00      0.00         2\n",
      "          17       0.00      0.00      0.00        21\n",
      "          19       0.58      0.29      0.39        24\n",
      "          21       0.50      0.20      0.29         5\n",
      "          22       0.00      0.00      0.00        24\n",
      "          23       0.00      0.00      0.00         3\n",
      "          26       0.00      0.00      0.00         5\n",
      "          27       0.00      0.00      0.00        45\n",
      "          28       0.00      0.00      0.00        14\n",
      "          29       0.83      0.97      0.90      1340\n",
      "\n",
      "    accuracy                           0.81      1835\n",
      "   macro avg       0.28      0.18      0.21      1835\n",
      "weighted avg       0.74      0.81      0.76      1835\n",
      "\n"
     ]
    },
    {
     "name": "stderr",
     "output_type": "stream",
     "text": [
      "C:\\Users\\user\\anaconda3\\Lib\\site-packages\\sklearn\\metrics\\_classification.py:1471: UndefinedMetricWarning: Precision and F-score are ill-defined and being set to 0.0 in labels with no predicted samples. Use `zero_division` parameter to control this behavior.\n",
      "  _warn_prf(average, modifier, msg_start, len(result))\n",
      "C:\\Users\\user\\anaconda3\\Lib\\site-packages\\sklearn\\metrics\\_classification.py:1471: UndefinedMetricWarning: Precision and F-score are ill-defined and being set to 0.0 in labels with no predicted samples. Use `zero_division` parameter to control this behavior.\n",
      "  _warn_prf(average, modifier, msg_start, len(result))\n",
      "C:\\Users\\user\\anaconda3\\Lib\\site-packages\\sklearn\\metrics\\_classification.py:1471: UndefinedMetricWarning: Precision and F-score are ill-defined and being set to 0.0 in labels with no predicted samples. Use `zero_division` parameter to control this behavior.\n",
      "  _warn_prf(average, modifier, msg_start, len(result))\n"
     ]
    }
   ],
   "source": [
    "from sklearn.metrics import confusion_matrix, classification_report\n",
    "import seaborn as sn\n",
    "import matplotlib.pyplot as plt\n",
    "\n",
    "def draw_cm(actual, predicted):\n",
    "    cm = confusion_matrix(actual, predicted, labels=[1, 0])\n",
    "    sn.heatmap(cm, annot=True, fmt='.2f',\n",
    "              xticklabels=['Detected', 'NON_Detected'],\n",
    "              yticklabels=['Detected', 'NON_Detected'])\n",
    "    plt.ylabel('Actual Label')\n",
    "    plt.xlabel('Predicted Label')\n",
    "    plt.show()\n",
    "\n",
    "# Example usage\n",
    "draw_cm(y_test, y_pred)\n",
    "print(classification_report(y_test, y_pred))\n"
   ]
  },
  {
   "cell_type": "code",
   "execution_count": null,
   "id": "7ce5da08",
   "metadata": {},
   "outputs": [],
   "source": []
  },
  {
   "cell_type": "markdown",
   "id": "f051e10a",
   "metadata": {},
   "source": [
    "##### logisitic Regression"
   ]
  },
  {
   "cell_type": "code",
   "execution_count": 77,
   "id": "57ba3b54",
   "metadata": {},
   "outputs": [
    {
     "name": "stderr",
     "output_type": "stream",
     "text": [
      "C:\\Users\\user\\anaconda3\\Lib\\site-packages\\sklearn\\model_selection\\_split.py:737: UserWarning: The least populated class in y has only 1 members, which is less than n_splits=5.\n",
      "  warnings.warn(\n",
      "C:\\Users\\user\\anaconda3\\Lib\\site-packages\\sklearn\\linear_model\\_logistic.py:460: ConvergenceWarning: lbfgs failed to converge (status=1):\n",
      "STOP: TOTAL NO. of ITERATIONS REACHED LIMIT.\n",
      "\n",
      "Increase the number of iterations (max_iter) or scale the data as shown in:\n",
      "    https://scikit-learn.org/stable/modules/preprocessing.html\n",
      "Please also refer to the documentation for alternative solver options:\n",
      "    https://scikit-learn.org/stable/modules/linear_model.html#logistic-regression\n",
      "  n_iter_i = _check_optimize_result(\n",
      "C:\\Users\\user\\anaconda3\\Lib\\site-packages\\sklearn\\linear_model\\_logistic.py:460: ConvergenceWarning: lbfgs failed to converge (status=1):\n",
      "STOP: TOTAL NO. of ITERATIONS REACHED LIMIT.\n",
      "\n",
      "Increase the number of iterations (max_iter) or scale the data as shown in:\n",
      "    https://scikit-learn.org/stable/modules/preprocessing.html\n",
      "Please also refer to the documentation for alternative solver options:\n",
      "    https://scikit-learn.org/stable/modules/linear_model.html#logistic-regression\n",
      "  n_iter_i = _check_optimize_result(\n",
      "C:\\Users\\user\\anaconda3\\Lib\\site-packages\\sklearn\\linear_model\\_logistic.py:460: ConvergenceWarning: lbfgs failed to converge (status=1):\n",
      "STOP: TOTAL NO. of ITERATIONS REACHED LIMIT.\n",
      "\n",
      "Increase the number of iterations (max_iter) or scale the data as shown in:\n",
      "    https://scikit-learn.org/stable/modules/preprocessing.html\n",
      "Please also refer to the documentation for alternative solver options:\n",
      "    https://scikit-learn.org/stable/modules/linear_model.html#logistic-regression\n",
      "  n_iter_i = _check_optimize_result(\n",
      "C:\\Users\\user\\anaconda3\\Lib\\site-packages\\sklearn\\linear_model\\_logistic.py:460: ConvergenceWarning: lbfgs failed to converge (status=1):\n",
      "STOP: TOTAL NO. of ITERATIONS REACHED LIMIT.\n",
      "\n",
      "Increase the number of iterations (max_iter) or scale the data as shown in:\n",
      "    https://scikit-learn.org/stable/modules/preprocessing.html\n",
      "Please also refer to the documentation for alternative solver options:\n",
      "    https://scikit-learn.org/stable/modules/linear_model.html#logistic-regression\n",
      "  n_iter_i = _check_optimize_result(\n",
      "C:\\Users\\user\\anaconda3\\Lib\\site-packages\\sklearn\\linear_model\\_logistic.py:460: ConvergenceWarning: lbfgs failed to converge (status=1):\n",
      "STOP: TOTAL NO. of ITERATIONS REACHED LIMIT.\n",
      "\n",
      "Increase the number of iterations (max_iter) or scale the data as shown in:\n",
      "    https://scikit-learn.org/stable/modules/preprocessing.html\n",
      "Please also refer to the documentation for alternative solver options:\n",
      "    https://scikit-learn.org/stable/modules/linear_model.html#logistic-regression\n",
      "  n_iter_i = _check_optimize_result(\n",
      "C:\\Users\\user\\anaconda3\\Lib\\site-packages\\sklearn\\linear_model\\_logistic.py:460: ConvergenceWarning: lbfgs failed to converge (status=1):\n",
      "STOP: TOTAL NO. of ITERATIONS REACHED LIMIT.\n",
      "\n",
      "Increase the number of iterations (max_iter) or scale the data as shown in:\n",
      "    https://scikit-learn.org/stable/modules/preprocessing.html\n",
      "Please also refer to the documentation for alternative solver options:\n",
      "    https://scikit-learn.org/stable/modules/linear_model.html#logistic-regression\n",
      "  n_iter_i = _check_optimize_result(\n",
      "C:\\Users\\user\\anaconda3\\Lib\\site-packages\\sklearn\\linear_model\\_logistic.py:460: ConvergenceWarning: lbfgs failed to converge (status=1):\n",
      "STOP: TOTAL NO. of ITERATIONS REACHED LIMIT.\n",
      "\n",
      "Increase the number of iterations (max_iter) or scale the data as shown in:\n",
      "    https://scikit-learn.org/stable/modules/preprocessing.html\n",
      "Please also refer to the documentation for alternative solver options:\n",
      "    https://scikit-learn.org/stable/modules/linear_model.html#logistic-regression\n",
      "  n_iter_i = _check_optimize_result(\n",
      "C:\\Users\\user\\anaconda3\\Lib\\site-packages\\sklearn\\linear_model\\_logistic.py:460: ConvergenceWarning: lbfgs failed to converge (status=1):\n",
      "STOP: TOTAL NO. of ITERATIONS REACHED LIMIT.\n",
      "\n",
      "Increase the number of iterations (max_iter) or scale the data as shown in:\n",
      "    https://scikit-learn.org/stable/modules/preprocessing.html\n",
      "Please also refer to the documentation for alternative solver options:\n",
      "    https://scikit-learn.org/stable/modules/linear_model.html#logistic-regression\n",
      "  n_iter_i = _check_optimize_result(\n",
      "C:\\Users\\user\\anaconda3\\Lib\\site-packages\\sklearn\\linear_model\\_logistic.py:460: ConvergenceWarning: lbfgs failed to converge (status=1):\n",
      "STOP: TOTAL NO. of ITERATIONS REACHED LIMIT.\n",
      "\n",
      "Increase the number of iterations (max_iter) or scale the data as shown in:\n",
      "    https://scikit-learn.org/stable/modules/preprocessing.html\n",
      "Please also refer to the documentation for alternative solver options:\n",
      "    https://scikit-learn.org/stable/modules/linear_model.html#logistic-regression\n",
      "  n_iter_i = _check_optimize_result(\n",
      "C:\\Users\\user\\anaconda3\\Lib\\site-packages\\sklearn\\linear_model\\_logistic.py:460: ConvergenceWarning: lbfgs failed to converge (status=1):\n",
      "STOP: TOTAL NO. of ITERATIONS REACHED LIMIT.\n",
      "\n",
      "Increase the number of iterations (max_iter) or scale the data as shown in:\n",
      "    https://scikit-learn.org/stable/modules/preprocessing.html\n",
      "Please also refer to the documentation for alternative solver options:\n",
      "    https://scikit-learn.org/stable/modules/linear_model.html#logistic-regression\n",
      "  n_iter_i = _check_optimize_result(\n",
      "C:\\Users\\user\\anaconda3\\Lib\\site-packages\\sklearn\\linear_model\\_logistic.py:460: ConvergenceWarning: lbfgs failed to converge (status=1):\n",
      "STOP: TOTAL NO. of ITERATIONS REACHED LIMIT.\n",
      "\n",
      "Increase the number of iterations (max_iter) or scale the data as shown in:\n",
      "    https://scikit-learn.org/stable/modules/preprocessing.html\n",
      "Please also refer to the documentation for alternative solver options:\n",
      "    https://scikit-learn.org/stable/modules/linear_model.html#logistic-regression\n",
      "  n_iter_i = _check_optimize_result(\n",
      "C:\\Users\\user\\anaconda3\\Lib\\site-packages\\sklearn\\linear_model\\_logistic.py:460: ConvergenceWarning: lbfgs failed to converge (status=1):\n",
      "STOP: TOTAL NO. of ITERATIONS REACHED LIMIT.\n",
      "\n",
      "Increase the number of iterations (max_iter) or scale the data as shown in:\n",
      "    https://scikit-learn.org/stable/modules/preprocessing.html\n",
      "Please also refer to the documentation for alternative solver options:\n",
      "    https://scikit-learn.org/stable/modules/linear_model.html#logistic-regression\n",
      "  n_iter_i = _check_optimize_result(\n",
      "C:\\Users\\user\\anaconda3\\Lib\\site-packages\\sklearn\\linear_model\\_logistic.py:460: ConvergenceWarning: lbfgs failed to converge (status=1):\n",
      "STOP: TOTAL NO. of ITERATIONS REACHED LIMIT.\n",
      "\n",
      "Increase the number of iterations (max_iter) or scale the data as shown in:\n",
      "    https://scikit-learn.org/stable/modules/preprocessing.html\n",
      "Please also refer to the documentation for alternative solver options:\n",
      "    https://scikit-learn.org/stable/modules/linear_model.html#logistic-regression\n",
      "  n_iter_i = _check_optimize_result(\n",
      "C:\\Users\\user\\anaconda3\\Lib\\site-packages\\sklearn\\linear_model\\_logistic.py:460: ConvergenceWarning: lbfgs failed to converge (status=1):\n",
      "STOP: TOTAL NO. of ITERATIONS REACHED LIMIT.\n",
      "\n",
      "Increase the number of iterations (max_iter) or scale the data as shown in:\n",
      "    https://scikit-learn.org/stable/modules/preprocessing.html\n",
      "Please also refer to the documentation for alternative solver options:\n",
      "    https://scikit-learn.org/stable/modules/linear_model.html#logistic-regression\n",
      "  n_iter_i = _check_optimize_result(\n",
      "C:\\Users\\user\\anaconda3\\Lib\\site-packages\\sklearn\\linear_model\\_logistic.py:460: ConvergenceWarning: lbfgs failed to converge (status=1):\n",
      "STOP: TOTAL NO. of ITERATIONS REACHED LIMIT.\n",
      "\n",
      "Increase the number of iterations (max_iter) or scale the data as shown in:\n",
      "    https://scikit-learn.org/stable/modules/preprocessing.html\n",
      "Please also refer to the documentation for alternative solver options:\n",
      "    https://scikit-learn.org/stable/modules/linear_model.html#logistic-regression\n",
      "  n_iter_i = _check_optimize_result(\n",
      "C:\\Users\\user\\anaconda3\\Lib\\site-packages\\sklearn\\model_selection\\_validation.py:425: FitFailedWarning: \n",
      "30 fits failed out of a total of 60.\n",
      "The score on these train-test partitions for these parameters will be set to nan.\n",
      "If these failures are not expected, you can try to debug them by setting error_score='raise'.\n",
      "\n",
      "Below are more details about the failures:\n",
      "--------------------------------------------------------------------------------\n",
      "15 fits failed with the following error:\n",
      "Traceback (most recent call last):\n",
      "  File \"C:\\Users\\user\\anaconda3\\Lib\\site-packages\\sklearn\\model_selection\\_validation.py\", line 729, in _fit_and_score\n",
      "    estimator.fit(X_train, y_train, **fit_params)\n",
      "  File \"C:\\Users\\user\\anaconda3\\Lib\\site-packages\\sklearn\\base.py\", line 1152, in wrapper\n",
      "    return fit_method(estimator, *args, **kwargs)\n",
      "           ^^^^^^^^^^^^^^^^^^^^^^^^^^^^^^^^^^^^^^\n",
      "  File \"C:\\Users\\user\\anaconda3\\Lib\\site-packages\\sklearn\\linear_model\\_logistic.py\", line 1169, in fit\n",
      "    solver = _check_solver(self.solver, self.penalty, self.dual)\n",
      "             ^^^^^^^^^^^^^^^^^^^^^^^^^^^^^^^^^^^^^^^^^^^^^^^^^^^\n",
      "  File \"C:\\Users\\user\\anaconda3\\Lib\\site-packages\\sklearn\\linear_model\\_logistic.py\", line 56, in _check_solver\n",
      "    raise ValueError(\n",
      "ValueError: Solver lbfgs supports only 'l2' or 'none' penalties, got l1 penalty.\n",
      "\n",
      "--------------------------------------------------------------------------------\n",
      "15 fits failed with the following error:\n",
      "Traceback (most recent call last):\n",
      "  File \"C:\\Users\\user\\anaconda3\\Lib\\site-packages\\sklearn\\model_selection\\_validation.py\", line 729, in _fit_and_score\n",
      "    estimator.fit(X_train, y_train, **fit_params)\n",
      "  File \"C:\\Users\\user\\anaconda3\\Lib\\site-packages\\sklearn\\base.py\", line 1152, in wrapper\n",
      "    return fit_method(estimator, *args, **kwargs)\n",
      "           ^^^^^^^^^^^^^^^^^^^^^^^^^^^^^^^^^^^^^^\n",
      "  File \"C:\\Users\\user\\anaconda3\\Lib\\site-packages\\sklearn\\linear_model\\_logistic.py\", line 1169, in fit\n",
      "    solver = _check_solver(self.solver, self.penalty, self.dual)\n",
      "             ^^^^^^^^^^^^^^^^^^^^^^^^^^^^^^^^^^^^^^^^^^^^^^^^^^^\n",
      "  File \"C:\\Users\\user\\anaconda3\\Lib\\site-packages\\sklearn\\linear_model\\_logistic.py\", line 56, in _check_solver\n",
      "    raise ValueError(\n",
      "ValueError: Solver lbfgs supports only 'l2' or 'none' penalties, got elasticnet penalty.\n",
      "\n",
      "  warnings.warn(some_fits_failed_message, FitFailedWarning)\n",
      "C:\\Users\\user\\anaconda3\\Lib\\site-packages\\sklearn\\model_selection\\_search.py:979: UserWarning: One or more of the test scores are non-finite: [       nan 0.80861589        nan 0.82142977        nan 0.80861589\n",
      "        nan 0.82238372        nan 0.80861589        nan 0.82156591]\n",
      "  warnings.warn(\n",
      "C:\\Users\\user\\anaconda3\\Lib\\site-packages\\sklearn\\linear_model\\_logistic.py:460: ConvergenceWarning: lbfgs failed to converge (status=1):\n",
      "STOP: TOTAL NO. of ITERATIONS REACHED LIMIT.\n",
      "\n",
      "Increase the number of iterations (max_iter) or scale the data as shown in:\n",
      "    https://scikit-learn.org/stable/modules/preprocessing.html\n",
      "Please also refer to the documentation for alternative solver options:\n",
      "    https://scikit-learn.org/stable/modules/linear_model.html#logistic-regression\n",
      "  n_iter_i = _check_optimize_result(\n"
     ]
    },
    {
     "data": {
      "text/plain": [
       "{'max_iter': 500, 'penalty': None}"
      ]
     },
     "execution_count": 77,
     "metadata": {},
     "output_type": "execute_result"
    }
   ],
   "source": [
    "from sklearn.linear_model import LogisticRegression\n",
    "from sklearn.metrics import accuracy_score\n",
    "\n",
    "param_grid = {\"max_iter\" : [250, 500, 1000],\n",
    "              \"penalty\" : ['l1','l2','elasticnet', None]\n",
    "             }\n",
    "\n",
    "clf = LogisticRegression(random_state = 0)\n",
    "\n",
    "# run grid search\n",
    "grid_search_ABC = GridSearchCV(clf, param_grid=param_grid, scoring = 'accuracy')\n",
    "\n",
    "grid_search_ABC.fit(X_train, y_train)\n",
    "\n",
    "grid_search_ABC.best_params_\n",
    "\n",
    "\n"
   ]
  },
  {
   "cell_type": "code",
   "execution_count": 79,
   "id": "1799f593",
   "metadata": {},
   "outputs": [
    {
     "name": "stderr",
     "output_type": "stream",
     "text": [
      "C:\\Users\\user\\anaconda3\\Lib\\site-packages\\sklearn\\linear_model\\_logistic.py:460: ConvergenceWarning: lbfgs failed to converge (status=1):\n",
      "STOP: TOTAL NO. of ITERATIONS REACHED LIMIT.\n",
      "\n",
      "Increase the number of iterations (max_iter) or scale the data as shown in:\n",
      "    https://scikit-learn.org/stable/modules/preprocessing.html\n",
      "Please also refer to the documentation for alternative solver options:\n",
      "    https://scikit-learn.org/stable/modules/linear_model.html#logistic-regression\n",
      "  n_iter_i = _check_optimize_result(\n"
     ]
    },
    {
     "data": {
      "text/html": [
       "<style>#sk-container-id-3 {color: black;}#sk-container-id-3 pre{padding: 0;}#sk-container-id-3 div.sk-toggleable {background-color: white;}#sk-container-id-3 label.sk-toggleable__label {cursor: pointer;display: block;width: 100%;margin-bottom: 0;padding: 0.3em;box-sizing: border-box;text-align: center;}#sk-container-id-3 label.sk-toggleable__label-arrow:before {content: \"▸\";float: left;margin-right: 0.25em;color: #696969;}#sk-container-id-3 label.sk-toggleable__label-arrow:hover:before {color: black;}#sk-container-id-3 div.sk-estimator:hover label.sk-toggleable__label-arrow:before {color: black;}#sk-container-id-3 div.sk-toggleable__content {max-height: 0;max-width: 0;overflow: hidden;text-align: left;background-color: #f0f8ff;}#sk-container-id-3 div.sk-toggleable__content pre {margin: 0.2em;color: black;border-radius: 0.25em;background-color: #f0f8ff;}#sk-container-id-3 input.sk-toggleable__control:checked~div.sk-toggleable__content {max-height: 200px;max-width: 100%;overflow: auto;}#sk-container-id-3 input.sk-toggleable__control:checked~label.sk-toggleable__label-arrow:before {content: \"▾\";}#sk-container-id-3 div.sk-estimator input.sk-toggleable__control:checked~label.sk-toggleable__label {background-color: #d4ebff;}#sk-container-id-3 div.sk-label input.sk-toggleable__control:checked~label.sk-toggleable__label {background-color: #d4ebff;}#sk-container-id-3 input.sk-hidden--visually {border: 0;clip: rect(1px 1px 1px 1px);clip: rect(1px, 1px, 1px, 1px);height: 1px;margin: -1px;overflow: hidden;padding: 0;position: absolute;width: 1px;}#sk-container-id-3 div.sk-estimator {font-family: monospace;background-color: #f0f8ff;border: 1px dotted black;border-radius: 0.25em;box-sizing: border-box;margin-bottom: 0.5em;}#sk-container-id-3 div.sk-estimator:hover {background-color: #d4ebff;}#sk-container-id-3 div.sk-parallel-item::after {content: \"\";width: 100%;border-bottom: 1px solid gray;flex-grow: 1;}#sk-container-id-3 div.sk-label:hover label.sk-toggleable__label {background-color: #d4ebff;}#sk-container-id-3 div.sk-serial::before {content: \"\";position: absolute;border-left: 1px solid gray;box-sizing: border-box;top: 0;bottom: 0;left: 50%;z-index: 0;}#sk-container-id-3 div.sk-serial {display: flex;flex-direction: column;align-items: center;background-color: white;padding-right: 0.2em;padding-left: 0.2em;position: relative;}#sk-container-id-3 div.sk-item {position: relative;z-index: 1;}#sk-container-id-3 div.sk-parallel {display: flex;align-items: stretch;justify-content: center;background-color: white;position: relative;}#sk-container-id-3 div.sk-item::before, #sk-container-id-3 div.sk-parallel-item::before {content: \"\";position: absolute;border-left: 1px solid gray;box-sizing: border-box;top: 0;bottom: 0;left: 50%;z-index: -1;}#sk-container-id-3 div.sk-parallel-item {display: flex;flex-direction: column;z-index: 1;position: relative;background-color: white;}#sk-container-id-3 div.sk-parallel-item:first-child::after {align-self: flex-end;width: 50%;}#sk-container-id-3 div.sk-parallel-item:last-child::after {align-self: flex-start;width: 50%;}#sk-container-id-3 div.sk-parallel-item:only-child::after {width: 0;}#sk-container-id-3 div.sk-dashed-wrapped {border: 1px dashed gray;margin: 0 0.4em 0.5em 0.4em;box-sizing: border-box;padding-bottom: 0.4em;background-color: white;}#sk-container-id-3 div.sk-label label {font-family: monospace;font-weight: bold;display: inline-block;line-height: 1.2em;}#sk-container-id-3 div.sk-label-container {text-align: center;}#sk-container-id-3 div.sk-container {/* jupyter's `normalize.less` sets `[hidden] { display: none; }` but bootstrap.min.css set `[hidden] { display: none !important; }` so we also need the `!important` here to be able to override the default hidden behavior on the sphinx rendered scikit-learn.org. See: https://github.com/scikit-learn/scikit-learn/issues/21755 */display: inline-block !important;position: relative;}#sk-container-id-3 div.sk-text-repr-fallback {display: none;}</style><div id=\"sk-container-id-3\" class=\"sk-top-container\"><div class=\"sk-text-repr-fallback\"><pre>LogisticRegression(max_iter=500, penalty=None, random_state=0)</pre><b>In a Jupyter environment, please rerun this cell to show the HTML representation or trust the notebook. <br />On GitHub, the HTML representation is unable to render, please try loading this page with nbviewer.org.</b></div><div class=\"sk-container\" hidden><div class=\"sk-item\"><div class=\"sk-estimator sk-toggleable\"><input class=\"sk-toggleable__control sk-hidden--visually\" id=\"sk-estimator-id-3\" type=\"checkbox\" checked><label for=\"sk-estimator-id-3\" class=\"sk-toggleable__label sk-toggleable__label-arrow\">LogisticRegression</label><div class=\"sk-toggleable__content\"><pre>LogisticRegression(max_iter=500, penalty=None, random_state=0)</pre></div></div></div></div></div>"
      ],
      "text/plain": [
       "LogisticRegression(max_iter=500, penalty=None, random_state=0)"
      ]
     },
     "execution_count": 79,
     "metadata": {},
     "output_type": "execute_result"
    }
   ],
   "source": [
    "from sklearn.linear_model import LogisticRegression\n",
    "from sklearn.model_selection import train_test_split\n",
    "\n",
    "# Assuming X_train, y_train are your training data\n",
    "# Modify this based on your actual data\n",
    "\n",
    "clf = LogisticRegression(random_state=0, max_iter=500, penalty=None)\n",
    "clf.fit(X_train, y_train)\n"
   ]
  },
  {
   "cell_type": "code",
   "execution_count": 80,
   "id": "cf78964e",
   "metadata": {},
   "outputs": [
    {
     "data": {
      "text/plain": [
       "array([15, 29, 15, ..., 29, 29,  0])"
      ]
     },
     "execution_count": 80,
     "metadata": {},
     "output_type": "execute_result"
    }
   ],
   "source": [
    "y_pred = clf.predict(X_test)\n",
    "y_pred"
   ]
  },
  {
   "cell_type": "code",
   "execution_count": 81,
   "id": "7df15de1",
   "metadata": {},
   "outputs": [],
   "source": [
    "y_test = y_test.astype(int)\n",
    "y_pred = y_pred.astype(int)"
   ]
  },
  {
   "cell_type": "code",
   "execution_count": 83,
   "id": "70da8519",
   "metadata": {},
   "outputs": [
    {
     "data": {
      "image/png": "[encoded data removed]",
      "text/plain": [
       "<Figure size 640x480 with 2 Axes>"
      ]
     },
     "metadata": {},
     "output_type": "display_data"
    },
    {
     "name": "stdout",
     "output_type": "stream",
     "text": [
      "              precision    recall  f1-score   support\n",
      "\n",
      "           0       0.69      0.35      0.46        26\n",
      "           1       0.00      0.00      0.00         7\n",
      "           2       0.00      0.00      0.00         4\n",
      "           3       0.67      0.67      0.67         3\n",
      "           4       0.00      0.00      0.00         0\n",
      "           6       0.76      0.55      0.64        53\n",
      "           7       0.00      0.00      0.00         1\n",
      "           8       0.65      0.45      0.53        73\n",
      "           9       0.00      0.00      0.00         5\n",
      "          10       0.60      0.33      0.43         9\n",
      "          11       0.00      0.00      0.00         0\n",
      "          12       0.00      0.00      0.00         1\n",
      "          13       0.59      0.38      0.46        69\n",
      "          14       0.00      0.00      0.00         9\n",
      "          15       0.71      0.71      0.71        92\n",
      "          16       0.33      0.50      0.40         2\n",
      "          17       0.00      0.00      0.00        21\n",
      "          19       0.61      0.46      0.52        24\n",
      "          21       0.50      0.20      0.29         5\n",
      "          22       0.57      0.17      0.26        24\n",
      "          23       0.00      0.00      0.00         3\n",
      "          25       0.00      0.00      0.00         0\n",
      "          26       0.00      0.00      0.00         5\n",
      "          27       0.00      0.00      0.00        45\n",
      "          28       0.00      0.00      0.00        14\n",
      "          29       0.84      0.97      0.90      1340\n",
      "\n",
      "    accuracy                           0.81      1835\n",
      "   macro avg       0.29      0.22      0.24      1835\n",
      "weighted avg       0.75      0.81      0.77      1835\n",
      "\n"
     ]
    },
    {
     "name": "stderr",
     "output_type": "stream",
     "text": [
      "C:\\Users\\user\\anaconda3\\Lib\\site-packages\\sklearn\\metrics\\_classification.py:1471: UndefinedMetricWarning: Precision and F-score are ill-defined and being set to 0.0 in labels with no predicted samples. Use `zero_division` parameter to control this behavior.\n",
      "  _warn_prf(average, modifier, msg_start, len(result))\n",
      "C:\\Users\\user\\anaconda3\\Lib\\site-packages\\sklearn\\metrics\\_classification.py:1471: UndefinedMetricWarning: Recall and F-score are ill-defined and being set to 0.0 in labels with no true samples. Use `zero_division` parameter to control this behavior.\n",
      "  _warn_prf(average, modifier, msg_start, len(result))\n",
      "C:\\Users\\user\\anaconda3\\Lib\\site-packages\\sklearn\\metrics\\_classification.py:1471: UndefinedMetricWarning: Precision and F-score are ill-defined and being set to 0.0 in labels with no predicted samples. Use `zero_division` parameter to control this behavior.\n",
      "  _warn_prf(average, modifier, msg_start, len(result))\n",
      "C:\\Users\\user\\anaconda3\\Lib\\site-packages\\sklearn\\metrics\\_classification.py:1471: UndefinedMetricWarning: Recall and F-score are ill-defined and being set to 0.0 in labels with no true samples. Use `zero_division` parameter to control this behavior.\n",
      "  _warn_prf(average, modifier, msg_start, len(result))\n",
      "C:\\Users\\user\\anaconda3\\Lib\\site-packages\\sklearn\\metrics\\_classification.py:1471: UndefinedMetricWarning: Precision and F-score are ill-defined and being set to 0.0 in labels with no predicted samples. Use `zero_division` parameter to control this behavior.\n",
      "  _warn_prf(average, modifier, msg_start, len(result))\n",
      "C:\\Users\\user\\anaconda3\\Lib\\site-packages\\sklearn\\metrics\\_classification.py:1471: UndefinedMetricWarning: Recall and F-score are ill-defined and being set to 0.0 in labels with no true samples. Use `zero_division` parameter to control this behavior.\n",
      "  _warn_prf(average, modifier, msg_start, len(result))\n"
     ]
    }
   ],
   "source": [
    "\n",
    "from sklearn.metrics import confusion_matrix, classification_report\n",
    "import seaborn as sn\n",
    "import matplotlib.pyplot as plt\n",
    "\n",
    "def draw_cm(actual, predicted):\n",
    "    cm = confusion_matrix(actual, predicted, labels=[1, 0])\n",
    "    sn.heatmap(cm, annot=True, fmt='.2f',\n",
    "              xticklabels=['Detected', 'NON_Detected'],\n",
    "              yticklabels=['Detected', 'NON_Detected'])\n",
    "    plt.ylabel('Actual Label')\n",
    "    plt.xlabel('Predicted Label')\n",
    "    plt.show()\n",
    "\n",
    "# Example usage\n",
    "draw_cm(y_test, y_pred)\n",
    "print(classification_report(y_test, y_pred))\n"
   ]
  },
  {
   "cell_type": "markdown",
   "id": "007b5059",
   "metadata": {},
   "source": [
    "### without PCA"
   ]
  },
  {
   "cell_type": "code",
   "execution_count": null,
   "id": "ef0f73ad",
   "metadata": {},
   "outputs": [],
   "source": [
    "df2"
   ]
  },
  {
   "cell_type": "code",
   "execution_count": null,
   "id": "306f4e90",
   "metadata": {},
   "outputs": [],
   "source": [
    "\n",
    "\n",
    "plt.figure(figsize=(15, 18))  # Adjust the figure size as needed\n",
    "sns.heatmap(df2.corr(), annot=True, cmap='coolwarm', fmt=\".2f\", linewidths=.5)\n",
    "plt.title(\"Correlation Heatmap\", fontsize=16)\n",
    "plt.show()\n"
   ]
  },
  {
   "cell_type": "markdown",
   "id": "91baddd0",
   "metadata": {},
   "source": [
    "#### normalize the value"
   ]
  },
  {
   "cell_type": "code",
   "execution_count": null,
   "id": "b14b7266",
   "metadata": {},
   "outputs": [],
   "source": [
    "for col in df2.columns:\n",
    "    print(\"\\n\\n\")\n",
    "    print(col)\n",
    "    print(df2[col].unique())\n"
   ]
  },
  {
   "cell_type": "code",
   "execution_count": null,
   "id": "df09626b",
   "metadata": {},
   "outputs": [],
   "source": [
    "from sklearn.preprocessing import StandardScaler\n",
    "\n",
    "cols = ['age', 'sex', 'TSH', 'T3', 'T4U']\n",
    "scaler = StandardScaler()\n",
    "\n",
    "for col in cols:\n",
    "    df2[col] = scaler.fit_transform(df2[[col]])\n"
   ]
  },
  {
   "cell_type": "markdown",
   "id": "f6edbf40",
   "metadata": {},
   "source": [
    "#### splitting X and y values"
   ]
  },
  {
   "cell_type": "code",
   "execution_count": null,
   "id": "a2812be1",
   "metadata": {},
   "outputs": [],
   "source": [
    "X = df2\n",
    "y = df['target']"
   ]
  },
  {
   "cell_type": "code",
   "execution_count": null,
   "id": "1dd3de80",
   "metadata": {},
   "outputs": [],
   "source": [
    "from sklearn.model_selection import train_test_split\n",
    "X_train, X_test, y_train, y_test = train_test_split(X, y, test_size=0.25, random_state=42)\n"
   ]
  },
  {
   "cell_type": "markdown",
   "id": "58c9df0a",
   "metadata": {},
   "source": [
    "#### Model Selection"
   ]
  },
  {
   "cell_type": "code",
   "execution_count": null,
   "id": "795137c8",
   "metadata": {},
   "outputs": [],
   "source": [
    "from sklearn.metrics import accuracy_score"
   ]
  },
  {
   "cell_type": "markdown",
   "id": "3330fe6e",
   "metadata": {},
   "source": [
    "#### Decision Tree"
   ]
  },
  {
   "cell_type": "code",
   "execution_count": 84,
   "id": "64db11e6",
   "metadata": {},
   "outputs": [
    {
     "name": "stderr",
     "output_type": "stream",
     "text": [
      "C:\\Users\\user\\anaconda3\\Lib\\site-packages\\sklearn\\model_selection\\_split.py:737: UserWarning: The least populated class in y has only 1 members, which is less than n_splits=5.\n",
      "  warnings.warn(\n"
     ]
    },
    {
     "data": {
      "text/plain": [
       "{'criterion': 'entropy',\n",
       " 'max_depth': 8,\n",
       " 'max_features': None,\n",
       " 'splitter': 'best'}"
      ]
     },
     "execution_count": 84,
     "metadata": {},
     "output_type": "execute_result"
    }
   ],
   "source": [
    "from sklearn.model_selection import train_test_split, GridSearchCV, cross_val_score\n",
    "\n",
    "from sklearn.tree import DecisionTreeClassifier\n",
    "from sklearn.metrics import accuracy_score\n",
    "\n",
    "\n",
    "param_grid = {\"criterion\" : [\"gini\", \"entropy\"],\n",
    "              \"splitter\" :   [\"best\", \"random\"],\n",
    "              \"max_depth\" : [8, 16, 32, 64, 128, None],\n",
    "              \"max_features\" : ['sqrt', 'log2', None]\n",
    "             }\n",
    "\n",
    "DTC = DecisionTreeClassifier(random_state = 0, max_features = \"auto\")\n",
    "\n",
    "# run grid search\n",
    "grid_search_ABC = GridSearchCV(DTC, param_grid=param_grid, scoring = 'accuracy')\n",
    "\n",
    "grid_search_ABC.fit(X_train, y_train)\n",
    "\n",
    "grid_search_ABC.best_params_"
   ]
  },
  {
   "cell_type": "code",
   "execution_count": 85,
   "id": "10c7e595",
   "metadata": {},
   "outputs": [],
   "source": [
    "from sklearn.tree import DecisionTreeClassifier\n",
    "tree = DecisionTreeClassifier(max_depth=8,random_state = 0, max_features = None, \n",
    "                              criterion = 'entropy' )\n",
    "tree.fit(X_train, y_train)\n",
    "#clf = tree.fit(X_train,y_train)\n",
    "treepredict = tree.predict(X_test)\n"
   ]
  },
  {
   "cell_type": "code",
   "execution_count": 86,
   "id": "866eb2ec",
   "metadata": {},
   "outputs": [
    {
     "data": {
      "text/plain": [
       "0.8408719346049046"
      ]
     },
     "execution_count": 86,
     "metadata": {},
     "output_type": "execute_result"
    }
   ],
   "source": [
    "accuracy_score(treepredict,y_test)\n",
    "#print(f\"Accuracy Score: {accuracy}\")"
   ]
  },
  {
   "cell_type": "markdown",
   "id": "a5474ac2",
   "metadata": {},
   "source": [
    "#### Random Forest Classifier"
   ]
  },
  {
   "cell_type": "code",
   "execution_count": null,
   "id": "aff32703",
   "metadata": {},
   "outputs": [],
   "source": [
    "from sklearn.ensemble import RandomForestClassifier\n",
    "from sklearn.metrics import accuracy_score\n",
    "\n",
    "# Assuming X_train, X_test, y_train, y_test are your training and test sets\n",
    "rf = RandomForestClassifier(max_depth=2, n_estimators=200)\n",
    "rclf = rf.fit(X_train, y_train)\n",
    "y_pred = rclf.predict(X_test)\n",
    "\n",
    "# Calculate and print the accuracy score\n",
    "accuracy = accuracy_score(y_pred, y_test)\n",
    "print(f\"Accuracy Score: {accuracy}\")\n"
   ]
  },
  {
   "cell_type": "markdown",
   "id": "2ca3d4d6",
   "metadata": {},
   "source": [
    "#### K-NN Classifier"
   ]
  },
  {
   "cell_type": "code",
   "execution_count": 87,
   "id": "8f6553e1",
   "metadata": {},
   "outputs": [],
   "source": [
    "import numpy as np\n",
    "\n",
    "X_train = np.array(X_train)\n",
    "X_test = np.array(X_test)\n"
   ]
  },
  {
   "cell_type": "code",
   "execution_count": 88,
   "id": "2785cead",
   "metadata": {},
   "outputs": [
    {
     "name": "stdout",
     "output_type": "stream",
     "text": [
      "False\n",
      "False\n"
     ]
    }
   ],
   "source": [
    "print(np.isnan(X_train).any())\n",
    "print(np.isnan(X_test).any())\n"
   ]
  },
  {
   "cell_type": "code",
   "execution_count": 89,
   "id": "fe2c1cc0",
   "metadata": {},
   "outputs": [
    {
     "name": "stdout",
     "output_type": "stream",
     "text": [
      "Requirement already satisfied: scikit-learn in c:\\users\\user\\anaconda3\\lib\\site-packages (1.3.2)\n",
      "Requirement already satisfied: numpy<2.0,>=1.17.3 in c:\\users\\user\\anaconda3\\lib\\site-packages (from scikit-learn) (1.24.3)\n",
      "Requirement already satisfied: scipy>=1.5.0 in c:\\users\\user\\anaconda3\\lib\\site-packages (from scikit-learn) (1.10.1)\n",
      "Requirement already satisfied: joblib>=1.1.1 in c:\\users\\user\\anaconda3\\lib\\site-packages (from scikit-learn) (1.2.0)\n",
      "Requirement already satisfied: threadpoolctl>=2.0.0 in c:\\users\\user\\anaconda3\\lib\\site-packages (from scikit-learn) (2.2.0)\n",
      "Note: you may need to restart the kernel to use updated packages.\n"
     ]
    }
   ],
   "source": [
    "pip install --upgrade scikit-learn\n"
   ]
  },
  {
   "cell_type": "code",
   "execution_count": 90,
   "id": "575c773c",
   "metadata": {},
   "outputs": [
    {
     "name": "stdout",
     "output_type": "stream",
     "text": [
      "Accuracy Score: 0.794550408719346\n"
     ]
    }
   ],
   "source": [
    "from sklearn.neighbors import KNeighborsClassifier\n",
    "from sklearn.metrics import accuracy_score\n",
    "\n",
    "# Assuming X_train, X_test, y_train, y_test are your training and test sets\n",
    "neigh = KNeighborsClassifier(n_neighbors=3)\n",
    "knnclf = neigh.fit(X_train, y_train)\n",
    "y_pred = knnclf.predict(X_test)\n",
    "\n",
    "# Calculate and print the accuracy score\n",
    "accuracy = accuracy_score(y_pred, y_test)\n",
    "print(f\"Accuracy Score: {accuracy}\")\n"
   ]
  },
  {
   "cell_type": "markdown",
   "id": "50acc9be",
   "metadata": {},
   "source": [
    "#### SVM"
   ]
  },
  {
   "cell_type": "code",
   "execution_count": 92,
   "id": "b902ad32",
   "metadata": {},
   "outputs": [
    {
     "name": "stderr",
     "output_type": "stream",
     "text": [
      "C:\\Users\\user\\anaconda3\\Lib\\site-packages\\sklearn\\model_selection\\_split.py:737: UserWarning: The least populated class in y has only 1 members, which is less than n_splits=5.\n",
      "  warnings.warn(\n"
     ]
    },
    {
     "data": {
      "text/plain": [
       "{'kernel': 'linear'}"
      ]
     },
     "execution_count": 92,
     "metadata": {},
     "output_type": "execute_result"
    }
   ],
   "source": [
    "from sklearn.svm import SVC\n",
    "from sklearn.metrics import accuracy_score\n",
    "from sklearn.model_selection import train_test_split, GridSearchCV, cross_val_score\n",
    "\n",
    "param_grid = {\"kernel\" : ['linear', 'poly', 'rbf', 'sigmoid']}\n",
    "\n",
    "clf = SVC(random_state = 0)\n",
    "\n",
    "# run grid search\n",
    "grid_search_ABC = GridSearchCV(clf, param_grid=param_grid, scoring = 'accuracy')\n",
    "\n",
    "grid_search_ABC.fit(X_train, y_train)\n",
    "\n",
    "grid_search_ABC.best_params_\n",
    "\n",
    "# Calculate and print the accuracy score\n",
    "#accuracy = accuracy_score(y_pred, y_test)\n",
    "#print(f\"Accuracy Score: {accuracy}\")\n"
   ]
  },
  {
   "cell_type": "code",
   "execution_count": 94,
   "id": "a0823736",
   "metadata": {},
   "outputs": [
    {
     "data": {
      "text/html": [
       "<style>#sk-container-id-4 {color: black;}#sk-container-id-4 pre{padding: 0;}#sk-container-id-4 div.sk-toggleable {background-color: white;}#sk-container-id-4 label.sk-toggleable__label {cursor: pointer;display: block;width: 100%;margin-bottom: 0;padding: 0.3em;box-sizing: border-box;text-align: center;}#sk-container-id-4 label.sk-toggleable__label-arrow:before {content: \"▸\";float: left;margin-right: 0.25em;color: #696969;}#sk-container-id-4 label.sk-toggleable__label-arrow:hover:before {color: black;}#sk-container-id-4 div.sk-estimator:hover label.sk-toggleable__label-arrow:before {color: black;}#sk-container-id-4 div.sk-toggleable__content {max-height: 0;max-width: 0;overflow: hidden;text-align: left;background-color: #f0f8ff;}#sk-container-id-4 div.sk-toggleable__content pre {margin: 0.2em;color: black;border-radius: 0.25em;background-color: #f0f8ff;}#sk-container-id-4 input.sk-toggleable__control:checked~div.sk-toggleable__content {max-height: 200px;max-width: 100%;overflow: auto;}#sk-container-id-4 input.sk-toggleable__control:checked~label.sk-toggleable__label-arrow:before {content: \"▾\";}#sk-container-id-4 div.sk-estimator input.sk-toggleable__control:checked~label.sk-toggleable__label {background-color: #d4ebff;}#sk-container-id-4 div.sk-label input.sk-toggleable__control:checked~label.sk-toggleable__label {background-color: #d4ebff;}#sk-container-id-4 input.sk-hidden--visually {border: 0;clip: rect(1px 1px 1px 1px);clip: rect(1px, 1px, 1px, 1px);height: 1px;margin: -1px;overflow: hidden;padding: 0;position: absolute;width: 1px;}#sk-container-id-4 div.sk-estimator {font-family: monospace;background-color: #f0f8ff;border: 1px dotted black;border-radius: 0.25em;box-sizing: border-box;margin-bottom: 0.5em;}#sk-container-id-4 div.sk-estimator:hover {background-color: #d4ebff;}#sk-container-id-4 div.sk-parallel-item::after {content: \"\";width: 100%;border-bottom: 1px solid gray;flex-grow: 1;}#sk-container-id-4 div.sk-label:hover label.sk-toggleable__label {background-color: #d4ebff;}#sk-container-id-4 div.sk-serial::before {content: \"\";position: absolute;border-left: 1px solid gray;box-sizing: border-box;top: 0;bottom: 0;left: 50%;z-index: 0;}#sk-container-id-4 div.sk-serial {display: flex;flex-direction: column;align-items: center;background-color: white;padding-right: 0.2em;padding-left: 0.2em;position: relative;}#sk-container-id-4 div.sk-item {position: relative;z-index: 1;}#sk-container-id-4 div.sk-parallel {display: flex;align-items: stretch;justify-content: center;background-color: white;position: relative;}#sk-container-id-4 div.sk-item::before, #sk-container-id-4 div.sk-parallel-item::before {content: \"\";position: absolute;border-left: 1px solid gray;box-sizing: border-box;top: 0;bottom: 0;left: 50%;z-index: -1;}#sk-container-id-4 div.sk-parallel-item {display: flex;flex-direction: column;z-index: 1;position: relative;background-color: white;}#sk-container-id-4 div.sk-parallel-item:first-child::after {align-self: flex-end;width: 50%;}#sk-container-id-4 div.sk-parallel-item:last-child::after {align-self: flex-start;width: 50%;}#sk-container-id-4 div.sk-parallel-item:only-child::after {width: 0;}#sk-container-id-4 div.sk-dashed-wrapped {border: 1px dashed gray;margin: 0 0.4em 0.5em 0.4em;box-sizing: border-box;padding-bottom: 0.4em;background-color: white;}#sk-container-id-4 div.sk-label label {font-family: monospace;font-weight: bold;display: inline-block;line-height: 1.2em;}#sk-container-id-4 div.sk-label-container {text-align: center;}#sk-container-id-4 div.sk-container {/* jupyter's `normalize.less` sets `[hidden] { display: none; }` but bootstrap.min.css set `[hidden] { display: none !important; }` so we also need the `!important` here to be able to override the default hidden behavior on the sphinx rendered scikit-learn.org. See: https://github.com/scikit-learn/scikit-learn/issues/21755 */display: inline-block !important;position: relative;}#sk-container-id-4 div.sk-text-repr-fallback {display: none;}</style><div id=\"sk-container-id-4\" class=\"sk-top-container\"><div class=\"sk-text-repr-fallback\"><pre>SVC(kernel=&#x27;linear&#x27;, random_state=0)</pre><b>In a Jupyter environment, please rerun this cell to show the HTML representation or trust the notebook. <br />On GitHub, the HTML representation is unable to render, please try loading this page with nbviewer.org.</b></div><div class=\"sk-container\" hidden><div class=\"sk-item\"><div class=\"sk-estimator sk-toggleable\"><input class=\"sk-toggleable__control sk-hidden--visually\" id=\"sk-estimator-id-4\" type=\"checkbox\" checked><label for=\"sk-estimator-id-4\" class=\"sk-toggleable__label sk-toggleable__label-arrow\">SVC</label><div class=\"sk-toggleable__content\"><pre>SVC(kernel=&#x27;linear&#x27;, random_state=0)</pre></div></div></div></div></div>"
      ],
      "text/plain": [
       "SVC(kernel='linear', random_state=0)"
      ]
     },
     "execution_count": 94,
     "metadata": {},
     "output_type": "execute_result"
    }
   ],
   "source": [
    "clf = SVC(random_state = 0, kernel = 'linear')\n",
    "\n",
    "\n",
    "clf.fit(X_train, y_train)"
   ]
  },
  {
   "cell_type": "code",
   "execution_count": 95,
   "id": "7bad9641",
   "metadata": {},
   "outputs": [
    {
     "data": {
      "text/plain": [
       "array([15, 29, 15, ..., 29, 29, 29])"
      ]
     },
     "execution_count": 95,
     "metadata": {},
     "output_type": "execute_result"
    }
   ],
   "source": [
    "y_pred = clf.predict(X_test)\n",
    "y_pred"
   ]
  },
  {
   "cell_type": "code",
   "execution_count": 96,
   "id": "c078e9f3",
   "metadata": {},
   "outputs": [],
   "source": [
    "y_pred = y_pred.astype(int)\n",
    "y_test = y_test.astype(int)"
   ]
  },
  {
   "cell_type": "code",
   "execution_count": 97,
   "id": "fb2ab630",
   "metadata": {},
   "outputs": [
    {
     "data": {
      "image/png": "[encoded data removed]",
      "text/plain": [
       "<Figure size 640x480 with 2 Axes>"
      ]
     },
     "metadata": {},
     "output_type": "display_data"
    },
    {
     "name": "stdout",
     "output_type": "stream",
     "text": [
      "              precision    recall  f1-score   support\n",
      "\n",
      "           0       0.67      0.31      0.42        26\n",
      "           1       0.00      0.00      0.00         7\n",
      "           2       0.00      0.00      0.00         4\n",
      "           3       0.00      0.00      0.00         3\n",
      "           6       0.85      0.66      0.74        53\n",
      "           7       0.00      0.00      0.00         1\n",
      "           8       0.67      0.44      0.53        73\n",
      "           9       0.00      0.00      0.00         5\n",
      "          10       1.00      0.22      0.36         9\n",
      "          12       0.00      0.00      0.00         1\n",
      "          13       0.56      0.33      0.42        69\n",
      "          14       0.00      0.00      0.00         9\n",
      "          15       0.68      0.82      0.74        92\n",
      "          16       0.00      0.00      0.00         2\n",
      "          17       0.00      0.00      0.00        21\n",
      "          19       0.58      0.29      0.39        24\n",
      "          21       0.50      0.20      0.29         5\n",
      "          22       0.00      0.00      0.00        24\n",
      "          23       0.00      0.00      0.00         3\n",
      "          26       0.00      0.00      0.00         5\n",
      "          27       0.00      0.00      0.00        45\n",
      "          28       0.00      0.00      0.00        14\n",
      "          29       0.83      0.97      0.90      1340\n",
      "\n",
      "    accuracy                           0.81      1835\n",
      "   macro avg       0.28      0.18      0.21      1835\n",
      "weighted avg       0.74      0.81      0.76      1835\n",
      "\n"
     ]
    },
    {
     "name": "stderr",
     "output_type": "stream",
     "text": [
      "C:\\Users\\user\\anaconda3\\Lib\\site-packages\\sklearn\\metrics\\_classification.py:1471: UndefinedMetricWarning: Precision and F-score are ill-defined and being set to 0.0 in labels with no predicted samples. Use `zero_division` parameter to control this behavior.\n",
      "  _warn_prf(average, modifier, msg_start, len(result))\n",
      "C:\\Users\\user\\anaconda3\\Lib\\site-packages\\sklearn\\metrics\\_classification.py:1471: UndefinedMetricWarning: Precision and F-score are ill-defined and being set to 0.0 in labels with no predicted samples. Use `zero_division` parameter to control this behavior.\n",
      "  _warn_prf(average, modifier, msg_start, len(result))\n",
      "C:\\Users\\user\\anaconda3\\Lib\\site-packages\\sklearn\\metrics\\_classification.py:1471: UndefinedMetricWarning: Precision and F-score are ill-defined and being set to 0.0 in labels with no predicted samples. Use `zero_division` parameter to control this behavior.\n",
      "  _warn_prf(average, modifier, msg_start, len(result))\n"
     ]
    }
   ],
   "source": [
    "from sklearn.metrics import confusion_matrix, classification_report\n",
    "import seaborn as sn\n",
    "import matplotlib.pyplot as plt\n",
    "\n",
    "def draw_cm(actual, predicted):\n",
    "    cm = confusion_matrix(actual, predicted, labels=[1, 0])\n",
    "    sn.heatmap(cm, annot=True, fmt='.2f',\n",
    "              xticklabels=['Detected', 'NON_Detected'],\n",
    "              yticklabels=['Detected', 'NON_Detected'])\n",
    "    plt.ylabel('Actual Label')\n",
    "    plt.xlabel('Predicted Label')\n",
    "    plt.show()\n",
    "\n",
    "# Example usage\n",
    "draw_cm(y_test, y_pred)\n",
    "print(classification_report(y_test, y_pred))\n"
   ]
  },
  {
   "cell_type": "code",
   "execution_count": 98,
   "id": "66f85ef2",
   "metadata": {},
   "outputs": [
    {
     "name": "stdout",
     "output_type": "stream",
     "text": [
      "Accuracy Score: 0.8098092643051771\n"
     ]
    }
   ],
   "source": [
    "# Calculate and print the accuracy score\n",
    "accuracy = accuracy_score(y_pred, y_test)\n",
    "print(f\"Accuracy Score: {accuracy}\")"
   ]
  },
  {
   "cell_type": "code",
   "execution_count": null,
   "id": "efc7476c",
   "metadata": {},
   "outputs": [],
   "source": []
  }
 ],
 "metadata": {
  "kernelspec": {
   "display_name": "Python 3 (ipykernel)",
   "language": "python",
   "name": "python3"
  },
  "language_info": {
   "codemirror_mode": {
    "name": "ipython",
    "version": 3
   },
   "file_extension": ".py",
   "mimetype": "text/x-python",
   "name": "python",
   "nbconvert_exporter": "python",
   "pygments_lexer": "ipython3",
   "version": "3.11.4"
  }
 },
 "nbformat": 4,
 "nbformat_minor": 5
}
